{
 "cells": [
  {
   "cell_type": "markdown",
   "id": "adjustable-adobe",
   "metadata": {},
   "source": [
    "# Masuratori de timp"
   ]
  },
  {
   "cell_type": "markdown",
   "id": "renewable-special",
   "metadata": {},
   "source": [
    "## Libraria timeit"
   ]
  },
  {
   "cell_type": "code",
   "execution_count": 10,
   "id": "single-click",
   "metadata": {},
   "outputs": [
    {
     "name": "stdout",
     "output_type": "stream",
     "text": [
      "0.7904234000000088\n"
     ]
    }
   ],
   "source": [
    "import timeit\n",
    "\n",
    "def job():\n",
    "    return [abs(x) for x in range(1000)]\n",
    "\n",
    "print(timeit.timeit(job, globals=globals(), number = 10000))"
   ]
  },
  {
   "cell_type": "markdown",
   "id": "circular-participation",
   "metadata": {},
   "source": [
    "## Libraria custom timer"
   ]
  },
  {
   "cell_type": "code",
   "execution_count": 12,
   "id": "devoted-alias",
   "metadata": {},
   "outputs": [
    {
     "name": "stdout",
     "output_type": "stream",
     "text": [
      "Best: 0.01039689999993243\n"
     ]
    }
   ],
   "source": [
    "import timer_lab as tmer\n",
    "\n",
    "def job():\n",
    "    return [abs(x) for x in range(1000)]\n",
    "\n",
    "(bestof, (total, result)) = tmer.bestoftotal(5, 100, job)\n",
    "print(f'Best: {bestof}')"
   ]
  },
  {
   "cell_type": "markdown",
   "id": "light-burst",
   "metadata": {},
   "source": [
    "# Masuratori de memorie"
   ]
  },
  {
   "cell_type": "code",
   "execution_count": 14,
   "id": "fixed-sierra",
   "metadata": {},
   "outputs": [
    {
     "name": "stdout",
     "output_type": "stream",
     "text": [
      "size: 869, peak: 34411\n",
      "size: 869, peak: 401075\n"
     ]
    }
   ],
   "source": [
    "import numpy as np\n",
    "import tracemalloc\n",
    "\n",
    "np.random.seed(0)\n",
    "values = np.random.randint(1, 100, size=100000)\n",
    "y = np.zeros(2*len(values))\n",
    "\n",
    "tracemalloc.start()\n",
    "np.power(2, values, out = y[::2])\n",
    "\n",
    "first_size, first_peak = tracemalloc.get_traced_memory()\n",
    "tracemalloc.clear_traces()\n",
    "\n",
    "y[::2] = 2**values\n",
    "second_size, second_peak = tracemalloc.get_traced_memory()\n",
    "\n",
    "\n",
    "print(f\"size: {first_size}, peak: {first_peak}\")\n",
    "print(f\"size: {second_size}, peak: {second_peak}\")\n",
    "tracemalloc.stop()"
   ]
  },
  {
   "cell_type": "code",
   "execution_count": null,
   "id": "supposed-craft",
   "metadata": {},
   "outputs": [],
   "source": []
  }
 ],
 "metadata": {
  "kernelspec": {
   "display_name": "Python 3",
   "language": "python",
   "name": "python3"
  },
  "language_info": {
   "codemirror_mode": {
    "name": "ipython",
    "version": 3
   },
   "file_extension": ".py",
   "mimetype": "text/x-python",
   "name": "python",
   "nbconvert_exporter": "python",
   "pygments_lexer": "ipython3",
   "version": "3.8.6"
  }
 },
 "nbformat": 4,
 "nbformat_minor": 5
}
