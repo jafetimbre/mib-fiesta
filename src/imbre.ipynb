{
  "nbformat": 4,
  "nbformat_minor": 0,
  "metadata": {
    "language_info": {
      "codemirror_mode": {
        "name": "ipython",
        "version": 3
      },
      "file_extension": ".py",
      "mimetype": "text/x-python",
      "name": "python",
      "nbconvert_exporter": "python",
      "pygments_lexer": "ipython3",
      "version": "3.8.6-final"
    },
    "orig_nbformat": 2,
    "kernelspec": {
      "name": "python3",
      "display_name": "Python 3.8.6 64-bit",
      "metadata": {
        "interpreter": {
          "hash": "122b684e0147009c315d6711cdbb4bc67c0b28d0ba10cdfcd148f2449410c391"
        }
      }
    },
    "colab": {
      "name": "imbre.ipynb",
      "provenance": [],
      "toc_visible": true,
      "include_colab_link": true
    }
  },
  "cells": [
    {
      "cell_type": "markdown",
      "metadata": {
        "id": "view-in-github",
        "colab_type": "text"
      },
      "source": [
        "<a href=\"https://colab.research.google.com/github/jafetimbre/mib-fiesta/blob/master/src/imbre.ipynb\" target=\"_parent\"><img src=\"https://colab.research.google.com/assets/colab-badge.svg\" alt=\"Open In Colab\"/></a>"
      ]
    },
    {
      "cell_type": "code",
      "metadata": {
        "id": "zmxcURSNVTSv",
        "outputId": "0c20b2d5-8cc5-444f-f2dc-5cfc38ef6960",
        "colab": {
          "base_uri": "https://localhost:8080/"
        }
      },
      "source": [
        "print('Hello world')"
      ],
      "execution_count": 339,
      "outputs": [
        {
          "output_type": "stream",
          "text": [
            "Hello world\n"
          ],
          "name": "stdout"
        }
      ]
    },
    {
      "cell_type": "code",
      "metadata": {
        "id": "pR1g8sQSVTTC"
      },
      "source": [
        "import pandas as pd\r\n",
        "import numpy as np\r\n",
        "import math\r\n",
        "import matplotlib.pyplot as plt"
      ],
      "execution_count": 340,
      "outputs": []
    },
    {
      "cell_type": "code",
      "metadata": {
        "id": "T00b6zsRWSC9"
      },
      "source": [
        "a = pd.read_csv('https://raw.githubusercontent.com/jafetimbre/mib-fiesta/master/data/housing_data_cleaned.csv')\r\n",
        "b = pd.read_csv('https://raw.githubusercontent.com/jafetimbre/mib-fiesta/master/data/property_data_cleaned.csv')"
      ],
      "execution_count": 341,
      "outputs": []
    },
    {
      "cell_type": "code",
      "metadata": {
        "id": "CDP0U72-WoxT",
        "outputId": "350f6e45-b6c0-45a0-8972-44640838b0df",
        "colab": {
          "base_uri": "https://localhost:8080/",
          "height": 204
        }
      },
      "source": [
        "a.head()"
      ],
      "execution_count": 342,
      "outputs": [
        {
          "output_type": "execute_result",
          "data": {
            "text/html": [
              "<div>\n",
              "<style scoped>\n",
              "    .dataframe tbody tr th:only-of-type {\n",
              "        vertical-align: middle;\n",
              "    }\n",
              "\n",
              "    .dataframe tbody tr th {\n",
              "        vertical-align: top;\n",
              "    }\n",
              "\n",
              "    .dataframe thead th {\n",
              "        text-align: right;\n",
              "    }\n",
              "</style>\n",
              "<table border=\"1\" class=\"dataframe\">\n",
              "  <thead>\n",
              "    <tr style=\"text-align: right;\">\n",
              "      <th></th>\n",
              "      <th>date</th>\n",
              "      <th>price</th>\n",
              "      <th>bedrooms</th>\n",
              "      <th>bathrooms</th>\n",
              "      <th>m2_living</th>\n",
              "      <th>m2_lot</th>\n",
              "      <th>floors</th>\n",
              "      <th>waterfront</th>\n",
              "      <th>condition</th>\n",
              "      <th>grade</th>\n",
              "      <th>m2_basement</th>\n",
              "      <th>yr_built</th>\n",
              "      <th>yr_renovated</th>\n",
              "      <th>zip</th>\n",
              "      <th>lat</th>\n",
              "      <th>long</th>\n",
              "    </tr>\n",
              "  </thead>\n",
              "  <tbody>\n",
              "    <tr>\n",
              "      <th>0</th>\n",
              "      <td>2014-10-13</td>\n",
              "      <td>221900</td>\n",
              "      <td>3</td>\n",
              "      <td>1.00</td>\n",
              "      <td>109</td>\n",
              "      <td>520</td>\n",
              "      <td>1.0</td>\n",
              "      <td>0</td>\n",
              "      <td>3</td>\n",
              "      <td>7</td>\n",
              "      <td>0</td>\n",
              "      <td>1955</td>\n",
              "      <td>0</td>\n",
              "      <td>98178</td>\n",
              "      <td>47.5112</td>\n",
              "      <td>-122.257</td>\n",
              "    </tr>\n",
              "    <tr>\n",
              "      <th>1</th>\n",
              "      <td>2014-12-09</td>\n",
              "      <td>538000</td>\n",
              "      <td>3</td>\n",
              "      <td>2.25</td>\n",
              "      <td>236</td>\n",
              "      <td>666</td>\n",
              "      <td>2.0</td>\n",
              "      <td>0</td>\n",
              "      <td>3</td>\n",
              "      <td>7</td>\n",
              "      <td>37</td>\n",
              "      <td>1951</td>\n",
              "      <td>1991</td>\n",
              "      <td>98125</td>\n",
              "      <td>47.7210</td>\n",
              "      <td>-122.319</td>\n",
              "    </tr>\n",
              "    <tr>\n",
              "      <th>2</th>\n",
              "      <td>2014-12-09</td>\n",
              "      <td>604000</td>\n",
              "      <td>4</td>\n",
              "      <td>3.00</td>\n",
              "      <td>180</td>\n",
              "      <td>460</td>\n",
              "      <td>1.0</td>\n",
              "      <td>0</td>\n",
              "      <td>5</td>\n",
              "      <td>7</td>\n",
              "      <td>84</td>\n",
              "      <td>1965</td>\n",
              "      <td>0</td>\n",
              "      <td>98136</td>\n",
              "      <td>47.5208</td>\n",
              "      <td>-122.393</td>\n",
              "    </tr>\n",
              "    <tr>\n",
              "      <th>3</th>\n",
              "      <td>2015-04-15</td>\n",
              "      <td>229500</td>\n",
              "      <td>3</td>\n",
              "      <td>1.00</td>\n",
              "      <td>164</td>\n",
              "      <td>687</td>\n",
              "      <td>1.0</td>\n",
              "      <td>0</td>\n",
              "      <td>3</td>\n",
              "      <td>7</td>\n",
              "      <td>67</td>\n",
              "      <td>1960</td>\n",
              "      <td>0</td>\n",
              "      <td>98146</td>\n",
              "      <td>47.5123</td>\n",
              "      <td>-122.337</td>\n",
              "    </tr>\n",
              "    <tr>\n",
              "      <th>4</th>\n",
              "      <td>2014-05-27</td>\n",
              "      <td>468000</td>\n",
              "      <td>2</td>\n",
              "      <td>1.00</td>\n",
              "      <td>107</td>\n",
              "      <td>552</td>\n",
              "      <td>1.0</td>\n",
              "      <td>0</td>\n",
              "      <td>4</td>\n",
              "      <td>7</td>\n",
              "      <td>28</td>\n",
              "      <td>1942</td>\n",
              "      <td>0</td>\n",
              "      <td>98115</td>\n",
              "      <td>47.6900</td>\n",
              "      <td>-122.292</td>\n",
              "    </tr>\n",
              "  </tbody>\n",
              "</table>\n",
              "</div>"
            ],
            "text/plain": [
              "         date   price  bedrooms  ...    zip      lat     long\n",
              "0  2014-10-13  221900         3  ...  98178  47.5112 -122.257\n",
              "1  2014-12-09  538000         3  ...  98125  47.7210 -122.319\n",
              "2  2014-12-09  604000         4  ...  98136  47.5208 -122.393\n",
              "3  2015-04-15  229500         3  ...  98146  47.5123 -122.337\n",
              "4  2014-05-27  468000         2  ...  98115  47.6900 -122.292\n",
              "\n",
              "[5 rows x 16 columns]"
            ]
          },
          "metadata": {
            "tags": []
          },
          "execution_count": 342
        }
      ]
    },
    {
      "cell_type": "code",
      "metadata": {
        "id": "0ghHPsAgWsQD",
        "outputId": "f3e3afcf-b0cd-4132-9b7b-b00580bcfd65",
        "colab": {
          "base_uri": "https://localhost:8080/",
          "height": 204
        }
      },
      "source": [
        "b.head()"
      ],
      "execution_count": 343,
      "outputs": [
        {
          "output_type": "execute_result",
          "data": {
            "text/html": [
              "<div>\n",
              "<style scoped>\n",
              "    .dataframe tbody tr th:only-of-type {\n",
              "        vertical-align: middle;\n",
              "    }\n",
              "\n",
              "    .dataframe tbody tr th {\n",
              "        vertical-align: top;\n",
              "    }\n",
              "\n",
              "    .dataframe thead th {\n",
              "        text-align: right;\n",
              "    }\n",
              "</style>\n",
              "<table border=\"1\" class=\"dataframe\">\n",
              "  <thead>\n",
              "    <tr style=\"text-align: right;\">\n",
              "      <th></th>\n",
              "      <th>property_type</th>\n",
              "      <th>zip</th>\n",
              "      <th>neighborhood</th>\n",
              "      <th>latitude</th>\n",
              "      <th>longitude</th>\n",
              "    </tr>\n",
              "  </thead>\n",
              "  <tbody>\n",
              "    <tr>\n",
              "      <th>0</th>\n",
              "      <td>K-12 School</td>\n",
              "      <td>98118</td>\n",
              "      <td>SOUTHEAST</td>\n",
              "      <td>47.545701</td>\n",
              "      <td>-122.268584</td>\n",
              "    </tr>\n",
              "    <tr>\n",
              "      <th>1</th>\n",
              "      <td>K-12 School</td>\n",
              "      <td>98112</td>\n",
              "      <td>SHARED: CENTRAL &amp; EAST</td>\n",
              "      <td>47.623094</td>\n",
              "      <td>-122.305389</td>\n",
              "    </tr>\n",
              "    <tr>\n",
              "      <th>2</th>\n",
              "      <td>K-12 School</td>\n",
              "      <td>98125</td>\n",
              "      <td>NORTH</td>\n",
              "      <td>47.710115</td>\n",
              "      <td>-122.293792</td>\n",
              "    </tr>\n",
              "    <tr>\n",
              "      <th>3</th>\n",
              "      <td>K-12 School</td>\n",
              "      <td>98109</td>\n",
              "      <td>MAGNOLIA / QUEEN ANNE</td>\n",
              "      <td>47.633032</td>\n",
              "      <td>-122.352457</td>\n",
              "    </tr>\n",
              "    <tr>\n",
              "      <th>4</th>\n",
              "      <td>Office</td>\n",
              "      <td>98103</td>\n",
              "      <td>LAKE UNION</td>\n",
              "      <td>47.663916</td>\n",
              "      <td>-122.331722</td>\n",
              "    </tr>\n",
              "  </tbody>\n",
              "</table>\n",
              "</div>"
            ],
            "text/plain": [
              "  property_type    zip            neighborhood   latitude   longitude\n",
              "0   K-12 School  98118               SOUTHEAST  47.545701 -122.268584\n",
              "1   K-12 School  98112  SHARED: CENTRAL & EAST  47.623094 -122.305389\n",
              "2   K-12 School  98125                   NORTH  47.710115 -122.293792\n",
              "3   K-12 School  98109   MAGNOLIA / QUEEN ANNE  47.633032 -122.352457\n",
              "4        Office  98103              LAKE UNION  47.663916 -122.331722"
            ]
          },
          "metadata": {
            "tags": []
          },
          "execution_count": 343
        }
      ]
    },
    {
      "cell_type": "code",
      "metadata": {
        "id": "VHa573NlWwIC",
        "outputId": "528f240a-0d27-45d3-933a-1b126557d4fc",
        "colab": {
          "base_uri": "https://localhost:8080/"
        }
      },
      "source": [
        "b.property_type.unique()"
      ],
      "execution_count": 344,
      "outputs": [
        {
          "output_type": "execute_result",
          "data": {
            "text/plain": [
              "array(['K-12 School', 'Office', 'Supermarket/Grocery Store',\n",
              "       'Distribution Center', 'Senior Care Community', 'Medical Office',\n",
              "       'Retail Store', 'Other', 'Hospital (General Medical & Surgical)',\n",
              "       'College/University', 'Other - Lodging/Residential',\n",
              "       'Residence Hall/Dormitory', 'Other/Specialty Hospital',\n",
              "       'Financial Office', 'Self-Storage Facility',\n",
              "       'Non-Refrigerated Warehouse', 'Museum', 'Parking',\n",
              "       'Mixed Use Property', 'Worship Facility', 'Data Center',\n",
              "       'Laboratory', 'Other - Services', 'Strip Mall',\n",
              "       'Wholesale Club/Supercenter', 'Refrigerated Warehouse',\n",
              "       'Other - Recreation', 'Lifestyle Center',\n",
              "       'Other - Entertainment/Public Assembly',\n",
              "       'Manufacturing/Industrial Plant', 'Restaurant',\n",
              "       'Social/Meeting Hall', 'Other - Education',\n",
              "       'Fitness Center/Health Club/Gym', 'Other - Mall',\n",
              "       'Automobile Dealership', 'Residential Care Facility',\n",
              "       'Repair Services (Vehicle, Shoe, Locksmith, etc)',\n",
              "       'Adult Education', 'Library', 'Performing Arts', 'Movie Theater',\n",
              "       'Outpatient Rehabilitation/Physical Therapy',\n",
              "       'Personal Services (Health/Beauty, Dry Cleaning, etc)',\n",
              "       'Multifamily Housing', 'Bank Branch',\n",
              "       'Urgent Care/Clinic/Other Outpatient', 'Other - Utility',\n",
              "       'Pre-school/Daycare'], dtype=object)"
            ]
          },
          "metadata": {
            "tags": []
          },
          "execution_count": 344
        }
      ]
    },
    {
      "cell_type": "code",
      "metadata": {
        "id": "Bbqsyu3LW6cS"
      },
      "source": [
        "property_types = {\r\n",
        "    'education': ['K-12 School', 'College/University', 'Other - Education', 'Adult Education', 'Pre-school/Daycare'],\r\n",
        "    'culture': ['Museum', 'Social/Meeting Hall', 'Library', 'Performing Arts', 'Movie Theater'],\r\n",
        "    'store': ['Supermarket/Grocery Store', 'Retail Store', 'Strip Mall', 'Other - Mall', 'Automobile Dealership'],\r\n",
        "    'work': ['Office', 'Financial Office', 'Bank Branch'],\r\n",
        "    'health': ['Medical Office', 'Hospital (General Medical & Surgical)', 'Other/Specialty Hospital', 'Urgent Care/Clinic/Other Outpatient'],\r\n",
        "    'services': ['Parking', 'Other - Services', 'Restaurant', 'Residential Care Facility', 'Repair Services (Vehicle, Shoe, Locksmith, etc)', 'Personal Services (Health/Beauty, Dry Cleaning, etc)', 'Other - Utility'],\r\n",
        "    'recreation': ['Other - Recreation', 'Lifestyle Center', 'Other - Entertainment/Public Assembly', 'Fitness Center/Health Club/Gym', 'Outpatient Rehabilitation/Physical Therapy']\r\n",
        "}"
      ],
      "execution_count": 345,
      "outputs": []
    },
    {
      "cell_type": "code",
      "metadata": {
        "id": "J_c8PIctX9n0",
        "outputId": "a4050374-5308-4b25-c194-3ea22bca36a0",
        "colab": {
          "base_uri": "https://localhost:8080/"
        }
      },
      "source": [
        "filters = []\r\n",
        "for i, el in property_types.items():\r\n",
        "    filters.extend(el)\r\n",
        "\r\n",
        "print(f'Elements rem:\\n{b.property_type.unique()[np.isin(b.property_type.unique(), filters, invert=True)]}')"
      ],
      "execution_count": 346,
      "outputs": [
        {
          "output_type": "stream",
          "text": [
            "Elements rem:\n",
            "['Distribution Center' 'Senior Care Community' 'Other'\n",
            " 'Other - Lodging/Residential' 'Residence Hall/Dormitory'\n",
            " 'Self-Storage Facility' 'Non-Refrigerated Warehouse' 'Mixed Use Property'\n",
            " 'Worship Facility' 'Data Center' 'Laboratory'\n",
            " 'Wholesale Club/Supercenter' 'Refrigerated Warehouse'\n",
            " 'Manufacturing/Industrial Plant' 'Multifamily Housing']\n"
          ],
          "name": "stdout"
        }
      ]
    },
    {
      "cell_type": "code",
      "metadata": {
        "id": "Wm_yf-2ZYLij"
      },
      "source": [
        "def geographicDistance(a, b):\r\n",
        "    \"\"\"Calculates distance between two latitude-longitude coordinates.\"\"\"\r\n",
        "    R = 6378.1  # equatorial radius of Earth https://imagine.gsfc.nasa.gov/features/cosmic/earth_info.html\r\n",
        "    lat1, lon1 = math.radians(a[0]), math.radians(a[1])\r\n",
        "    lat2, lon2 = math.radians(b[0]), math.radians(b[1])\r\n",
        "    return math.acos(math.sin(lat1) * math.sin(lat2) +\r\n",
        "                     math.cos(lat1) * math.cos(lat2) * math.cos(lon1 - lon2)) * R"
      ],
      "execution_count": 347,
      "outputs": []
    },
    {
      "cell_type": "code",
      "metadata": {
        "id": "Jf5GR3oCeHiG"
      },
      "source": [
        "min_distance = 1    # km"
      ],
      "execution_count": 348,
      "outputs": []
    },
    {
      "cell_type": "code",
      "metadata": {
        "id": "U5gMuiF-eYrC"
      },
      "source": [
        "test_a = a[0:100]\r\n",
        "test_b = b[0:100]"
      ],
      "execution_count": 349,
      "outputs": []
    },
    {
      "cell_type": "code",
      "metadata": {
        "id": "2oe83MAvleyz",
        "outputId": "296c0ea7-72ad-47c0-eb07-557cbf6208f9",
        "colab": {
          "base_uri": "https://localhost:8080/",
          "height": 1000
        }
      },
      "source": [
        "test_b = test_b[test_b['property_type'].isin(property_types['education'])]\r\n",
        "test_b"
      ],
      "execution_count": 350,
      "outputs": [
        {
          "output_type": "execute_result",
          "data": {
            "text/html": [
              "<div>\n",
              "<style scoped>\n",
              "    .dataframe tbody tr th:only-of-type {\n",
              "        vertical-align: middle;\n",
              "    }\n",
              "\n",
              "    .dataframe tbody tr th {\n",
              "        vertical-align: top;\n",
              "    }\n",
              "\n",
              "    .dataframe thead th {\n",
              "        text-align: right;\n",
              "    }\n",
              "</style>\n",
              "<table border=\"1\" class=\"dataframe\">\n",
              "  <thead>\n",
              "    <tr style=\"text-align: right;\">\n",
              "      <th></th>\n",
              "      <th>property_type</th>\n",
              "      <th>zip</th>\n",
              "      <th>neighborhood</th>\n",
              "      <th>latitude</th>\n",
              "      <th>longitude</th>\n",
              "    </tr>\n",
              "  </thead>\n",
              "  <tbody>\n",
              "    <tr>\n",
              "      <th>0</th>\n",
              "      <td>K-12 School</td>\n",
              "      <td>98118</td>\n",
              "      <td>SOUTHEAST</td>\n",
              "      <td>47.545701</td>\n",
              "      <td>-122.268584</td>\n",
              "    </tr>\n",
              "    <tr>\n",
              "      <th>1</th>\n",
              "      <td>K-12 School</td>\n",
              "      <td>98112</td>\n",
              "      <td>SHARED: CENTRAL &amp; EAST</td>\n",
              "      <td>47.623094</td>\n",
              "      <td>-122.305389</td>\n",
              "    </tr>\n",
              "    <tr>\n",
              "      <th>2</th>\n",
              "      <td>K-12 School</td>\n",
              "      <td>98125</td>\n",
              "      <td>NORTH</td>\n",
              "      <td>47.710115</td>\n",
              "      <td>-122.293792</td>\n",
              "    </tr>\n",
              "    <tr>\n",
              "      <th>3</th>\n",
              "      <td>K-12 School</td>\n",
              "      <td>98109</td>\n",
              "      <td>MAGNOLIA / QUEEN ANNE</td>\n",
              "      <td>47.633032</td>\n",
              "      <td>-122.352457</td>\n",
              "    </tr>\n",
              "    <tr>\n",
              "      <th>7</th>\n",
              "      <td>K-12 School</td>\n",
              "      <td>98199</td>\n",
              "      <td>MAGNOLIA / QUEEN ANNE</td>\n",
              "      <td>47.657262</td>\n",
              "      <td>-122.390651</td>\n",
              "    </tr>\n",
              "    <tr>\n",
              "      <th>8</th>\n",
              "      <td>K-12 School</td>\n",
              "      <td>98115</td>\n",
              "      <td>NORTHEAST</td>\n",
              "      <td>47.682450</td>\n",
              "      <td>-122.293935</td>\n",
              "    </tr>\n",
              "    <tr>\n",
              "      <th>11</th>\n",
              "      <td>K-12 School</td>\n",
              "      <td>98103</td>\n",
              "      <td>NORTHWEST</td>\n",
              "      <td>47.688948</td>\n",
              "      <td>-122.336162</td>\n",
              "    </tr>\n",
              "    <tr>\n",
              "      <th>12</th>\n",
              "      <td>K-12 School</td>\n",
              "      <td>98112</td>\n",
              "      <td>EAST</td>\n",
              "      <td>47.634455</td>\n",
              "      <td>-122.308016</td>\n",
              "    </tr>\n",
              "    <tr>\n",
              "      <th>16</th>\n",
              "      <td>K-12 School</td>\n",
              "      <td>98146</td>\n",
              "      <td>SOUTHWEST</td>\n",
              "      <td>47.509354</td>\n",
              "      <td>-122.378222</td>\n",
              "    </tr>\n",
              "    <tr>\n",
              "      <th>30</th>\n",
              "      <td>K-12 School</td>\n",
              "      <td>98106</td>\n",
              "      <td>DELRIDGE NEIGHBORHOODS</td>\n",
              "      <td>47.562613</td>\n",
              "      <td>-122.357928</td>\n",
              "    </tr>\n",
              "    <tr>\n",
              "      <th>31</th>\n",
              "      <td>K-12 School</td>\n",
              "      <td>98112</td>\n",
              "      <td>EAST</td>\n",
              "      <td>47.626235</td>\n",
              "      <td>-122.308199</td>\n",
              "    </tr>\n",
              "    <tr>\n",
              "      <th>32</th>\n",
              "      <td>K-12 School</td>\n",
              "      <td>98112</td>\n",
              "      <td>EAST</td>\n",
              "      <td>47.625957</td>\n",
              "      <td>-122.304164</td>\n",
              "    </tr>\n",
              "    <tr>\n",
              "      <th>34</th>\n",
              "      <td>K-12 School</td>\n",
              "      <td>98144</td>\n",
              "      <td>SOUTHEAST</td>\n",
              "      <td>47.573346</td>\n",
              "      <td>-122.290622</td>\n",
              "    </tr>\n",
              "    <tr>\n",
              "      <th>35</th>\n",
              "      <td>K-12 School</td>\n",
              "      <td>98108</td>\n",
              "      <td>GREATER DUWAMISH</td>\n",
              "      <td>47.563013</td>\n",
              "      <td>-122.311211</td>\n",
              "    </tr>\n",
              "    <tr>\n",
              "      <th>36</th>\n",
              "      <td>K-12 School</td>\n",
              "      <td>98118</td>\n",
              "      <td>SOUTHEAST</td>\n",
              "      <td>47.554465</td>\n",
              "      <td>-122.276400</td>\n",
              "    </tr>\n",
              "    <tr>\n",
              "      <th>37</th>\n",
              "      <td>K-12 School</td>\n",
              "      <td>98119</td>\n",
              "      <td>MAGNOLIA / QUEEN ANNE</td>\n",
              "      <td>47.636734</td>\n",
              "      <td>-122.358945</td>\n",
              "    </tr>\n",
              "    <tr>\n",
              "      <th>40</th>\n",
              "      <td>K-12 School</td>\n",
              "      <td>98133</td>\n",
              "      <td>NORTHWEST</td>\n",
              "      <td>47.724652</td>\n",
              "      <td>-122.353933</td>\n",
              "    </tr>\n",
              "    <tr>\n",
              "      <th>41</th>\n",
              "      <td>K-12 School</td>\n",
              "      <td>98133</td>\n",
              "      <td>NORTHWEST</td>\n",
              "      <td>47.725957</td>\n",
              "      <td>-122.337595</td>\n",
              "    </tr>\n",
              "    <tr>\n",
              "      <th>42</th>\n",
              "      <td>K-12 School</td>\n",
              "      <td>98103</td>\n",
              "      <td>LAKE UNION</td>\n",
              "      <td>47.654747</td>\n",
              "      <td>-122.349099</td>\n",
              "    </tr>\n",
              "    <tr>\n",
              "      <th>44</th>\n",
              "      <td>K-12 School</td>\n",
              "      <td>98107</td>\n",
              "      <td>SHARED: BALLARD &amp; NORTHWEST</td>\n",
              "      <td>47.670316</td>\n",
              "      <td>-122.362259</td>\n",
              "    </tr>\n",
              "    <tr>\n",
              "      <th>45</th>\n",
              "      <td>K-12 School</td>\n",
              "      <td>98144</td>\n",
              "      <td>SOUTHEAST</td>\n",
              "      <td>47.576049</td>\n",
              "      <td>-122.292846</td>\n",
              "    </tr>\n",
              "    <tr>\n",
              "      <th>46</th>\n",
              "      <td>College/University</td>\n",
              "      <td>98122</td>\n",
              "      <td>EAST</td>\n",
              "      <td>47.614962</td>\n",
              "      <td>-122.321741</td>\n",
              "    </tr>\n",
              "    <tr>\n",
              "      <th>47</th>\n",
              "      <td>College/University</td>\n",
              "      <td>98106</td>\n",
              "      <td>DELRIDGE NEIGHBORHOODS</td>\n",
              "      <td>47.545505</td>\n",
              "      <td>-122.350052</td>\n",
              "    </tr>\n",
              "    <tr>\n",
              "      <th>49</th>\n",
              "      <td>K-12 School</td>\n",
              "      <td>98122</td>\n",
              "      <td>CENTRAL</td>\n",
              "      <td>47.605020</td>\n",
              "      <td>-122.301833</td>\n",
              "    </tr>\n",
              "    <tr>\n",
              "      <th>50</th>\n",
              "      <td>K-12 School</td>\n",
              "      <td>98118</td>\n",
              "      <td>SOUTHEAST</td>\n",
              "      <td>47.514664</td>\n",
              "      <td>-122.258819</td>\n",
              "    </tr>\n",
              "    <tr>\n",
              "      <th>51</th>\n",
              "      <td>K-12 School</td>\n",
              "      <td>98122</td>\n",
              "      <td>CENTRAL</td>\n",
              "      <td>47.612294</td>\n",
              "      <td>-122.290822</td>\n",
              "    </tr>\n",
              "    <tr>\n",
              "      <th>52</th>\n",
              "      <td>K-12 School</td>\n",
              "      <td>98118</td>\n",
              "      <td>GREATER DUWAMISH</td>\n",
              "      <td>47.529335</td>\n",
              "      <td>-122.288445</td>\n",
              "    </tr>\n",
              "    <tr>\n",
              "      <th>55</th>\n",
              "      <td>College/University</td>\n",
              "      <td>98119</td>\n",
              "      <td>MAGNOLIA / QUEEN ANNE</td>\n",
              "      <td>47.651537</td>\n",
              "      <td>-122.361546</td>\n",
              "    </tr>\n",
              "    <tr>\n",
              "      <th>57</th>\n",
              "      <td>K-12 School</td>\n",
              "      <td>98125</td>\n",
              "      <td>NORTH</td>\n",
              "      <td>47.707836</td>\n",
              "      <td>-122.294626</td>\n",
              "    </tr>\n",
              "    <tr>\n",
              "      <th>59</th>\n",
              "      <td>K-12 School</td>\n",
              "      <td>98117</td>\n",
              "      <td>NORTHWEST</td>\n",
              "      <td>47.687344</td>\n",
              "      <td>-122.359841</td>\n",
              "    </tr>\n",
              "    <tr>\n",
              "      <th>66</th>\n",
              "      <td>K-12 School</td>\n",
              "      <td>98117</td>\n",
              "      <td>BALLARD</td>\n",
              "      <td>47.676787</td>\n",
              "      <td>-122.373968</td>\n",
              "    </tr>\n",
              "    <tr>\n",
              "      <th>68</th>\n",
              "      <td>College/University</td>\n",
              "      <td>98103</td>\n",
              "      <td>NORTHWEST</td>\n",
              "      <td>47.698792</td>\n",
              "      <td>-122.333834</td>\n",
              "    </tr>\n",
              "    <tr>\n",
              "      <th>69</th>\n",
              "      <td>K-12 School</td>\n",
              "      <td>98118</td>\n",
              "      <td>SOUTHEAST</td>\n",
              "      <td>47.546579</td>\n",
              "      <td>-122.282019</td>\n",
              "    </tr>\n",
              "    <tr>\n",
              "      <th>72</th>\n",
              "      <td>K-12 School</td>\n",
              "      <td>98118</td>\n",
              "      <td>SOUTHEAST</td>\n",
              "      <td>47.523834</td>\n",
              "      <td>-122.266014</td>\n",
              "    </tr>\n",
              "    <tr>\n",
              "      <th>73</th>\n",
              "      <td>K-12 School</td>\n",
              "      <td>98117</td>\n",
              "      <td>BALLARD</td>\n",
              "      <td>47.696896</td>\n",
              "      <td>-122.377853</td>\n",
              "    </tr>\n",
              "    <tr>\n",
              "      <th>76</th>\n",
              "      <td>K-12 School</td>\n",
              "      <td>98106</td>\n",
              "      <td>DELRIDGE NEIGHBORHOODS</td>\n",
              "      <td>47.529674</td>\n",
              "      <td>-122.366656</td>\n",
              "    </tr>\n",
              "    <tr>\n",
              "      <th>77</th>\n",
              "      <td>K-12 School</td>\n",
              "      <td>98126</td>\n",
              "      <td>DELRIDGE NEIGHBORHOODS</td>\n",
              "      <td>47.517914</td>\n",
              "      <td>-122.370677</td>\n",
              "    </tr>\n",
              "    <tr>\n",
              "      <th>78</th>\n",
              "      <td>K-12 School</td>\n",
              "      <td>98144</td>\n",
              "      <td>CENTRAL</td>\n",
              "      <td>47.597924</td>\n",
              "      <td>-122.303947</td>\n",
              "    </tr>\n",
              "    <tr>\n",
              "      <th>80</th>\n",
              "      <td>K-12 School</td>\n",
              "      <td>98118</td>\n",
              "      <td>SOUTHEAST</td>\n",
              "      <td>47.541973</td>\n",
              "      <td>-122.276779</td>\n",
              "    </tr>\n",
              "    <tr>\n",
              "      <th>82</th>\n",
              "      <td>K-12 School</td>\n",
              "      <td>98103</td>\n",
              "      <td>LAKE UNION</td>\n",
              "      <td>47.657210</td>\n",
              "      <td>-122.337580</td>\n",
              "    </tr>\n",
              "    <tr>\n",
              "      <th>85</th>\n",
              "      <td>K-12 School</td>\n",
              "      <td>98117</td>\n",
              "      <td>BALLARD</td>\n",
              "      <td>47.683672</td>\n",
              "      <td>-122.372925</td>\n",
              "    </tr>\n",
              "    <tr>\n",
              "      <th>87</th>\n",
              "      <td>K-12 School</td>\n",
              "      <td>98136</td>\n",
              "      <td>SOUTHWEST</td>\n",
              "      <td>47.540267</td>\n",
              "      <td>-122.388496</td>\n",
              "    </tr>\n",
              "    <tr>\n",
              "      <th>88</th>\n",
              "      <td>K-12 School</td>\n",
              "      <td>98115</td>\n",
              "      <td>NORTH</td>\n",
              "      <td>47.698200</td>\n",
              "      <td>-122.321085</td>\n",
              "    </tr>\n",
              "    <tr>\n",
              "      <th>89</th>\n",
              "      <td>K-12 School</td>\n",
              "      <td>98108</td>\n",
              "      <td>GREATER DUWAMISH</td>\n",
              "      <td>47.538367</td>\n",
              "      <td>-122.296427</td>\n",
              "    </tr>\n",
              "    <tr>\n",
              "      <th>94</th>\n",
              "      <td>K-12 School</td>\n",
              "      <td>98106</td>\n",
              "      <td>DELRIDGE NEIGHBORHOODS</td>\n",
              "      <td>47.525602</td>\n",
              "      <td>-122.348707</td>\n",
              "    </tr>\n",
              "    <tr>\n",
              "      <th>96</th>\n",
              "      <td>K-12 School</td>\n",
              "      <td>98116</td>\n",
              "      <td>SOUTHWEST</td>\n",
              "      <td>47.576628</td>\n",
              "      <td>-122.384658</td>\n",
              "    </tr>\n",
              "    <tr>\n",
              "      <th>97</th>\n",
              "      <td>K-12 School</td>\n",
              "      <td>98105</td>\n",
              "      <td>NORTHEAST</td>\n",
              "      <td>47.665492</td>\n",
              "      <td>-122.314007</td>\n",
              "    </tr>\n",
              "  </tbody>\n",
              "</table>\n",
              "</div>"
            ],
            "text/plain": [
              "         property_type    zip  ...   latitude   longitude\n",
              "0          K-12 School  98118  ...  47.545701 -122.268584\n",
              "1          K-12 School  98112  ...  47.623094 -122.305389\n",
              "2          K-12 School  98125  ...  47.710115 -122.293792\n",
              "3          K-12 School  98109  ...  47.633032 -122.352457\n",
              "7          K-12 School  98199  ...  47.657262 -122.390651\n",
              "8          K-12 School  98115  ...  47.682450 -122.293935\n",
              "11         K-12 School  98103  ...  47.688948 -122.336162\n",
              "12         K-12 School  98112  ...  47.634455 -122.308016\n",
              "16         K-12 School  98146  ...  47.509354 -122.378222\n",
              "30         K-12 School  98106  ...  47.562613 -122.357928\n",
              "31         K-12 School  98112  ...  47.626235 -122.308199\n",
              "32         K-12 School  98112  ...  47.625957 -122.304164\n",
              "34         K-12 School  98144  ...  47.573346 -122.290622\n",
              "35         K-12 School  98108  ...  47.563013 -122.311211\n",
              "36         K-12 School  98118  ...  47.554465 -122.276400\n",
              "37         K-12 School  98119  ...  47.636734 -122.358945\n",
              "40         K-12 School  98133  ...  47.724652 -122.353933\n",
              "41         K-12 School  98133  ...  47.725957 -122.337595\n",
              "42         K-12 School  98103  ...  47.654747 -122.349099\n",
              "44         K-12 School  98107  ...  47.670316 -122.362259\n",
              "45         K-12 School  98144  ...  47.576049 -122.292846\n",
              "46  College/University  98122  ...  47.614962 -122.321741\n",
              "47  College/University  98106  ...  47.545505 -122.350052\n",
              "49         K-12 School  98122  ...  47.605020 -122.301833\n",
              "50         K-12 School  98118  ...  47.514664 -122.258819\n",
              "51         K-12 School  98122  ...  47.612294 -122.290822\n",
              "52         K-12 School  98118  ...  47.529335 -122.288445\n",
              "55  College/University  98119  ...  47.651537 -122.361546\n",
              "57         K-12 School  98125  ...  47.707836 -122.294626\n",
              "59         K-12 School  98117  ...  47.687344 -122.359841\n",
              "66         K-12 School  98117  ...  47.676787 -122.373968\n",
              "68  College/University  98103  ...  47.698792 -122.333834\n",
              "69         K-12 School  98118  ...  47.546579 -122.282019\n",
              "72         K-12 School  98118  ...  47.523834 -122.266014\n",
              "73         K-12 School  98117  ...  47.696896 -122.377853\n",
              "76         K-12 School  98106  ...  47.529674 -122.366656\n",
              "77         K-12 School  98126  ...  47.517914 -122.370677\n",
              "78         K-12 School  98144  ...  47.597924 -122.303947\n",
              "80         K-12 School  98118  ...  47.541973 -122.276779\n",
              "82         K-12 School  98103  ...  47.657210 -122.337580\n",
              "85         K-12 School  98117  ...  47.683672 -122.372925\n",
              "87         K-12 School  98136  ...  47.540267 -122.388496\n",
              "88         K-12 School  98115  ...  47.698200 -122.321085\n",
              "89         K-12 School  98108  ...  47.538367 -122.296427\n",
              "94         K-12 School  98106  ...  47.525602 -122.348707\n",
              "96         K-12 School  98116  ...  47.576628 -122.384658\n",
              "97         K-12 School  98105  ...  47.665492 -122.314007\n",
              "\n",
              "[47 rows x 5 columns]"
            ]
          },
          "metadata": {
            "tags": []
          },
          "execution_count": 350
        }
      ]
    },
    {
      "cell_type": "code",
      "metadata": {
        "id": "ViPQGzadoXTb"
      },
      "source": [
        "a_cords = zip(test_a.lat, test_a.long)\r\n",
        "b_cords = zip(test_b.latitude, test_b.longitude)"
      ],
      "execution_count": 351,
      "outputs": []
    },
    {
      "cell_type": "code",
      "metadata": {
        "id": "dlMo4kzBhzgL"
      },
      "source": [
        "data_housing = a\r\n",
        "data_properties = b\r\n",
        "\r\n",
        "min_distance = 1           # km\r\n",
        "compute_treshold = 0.05    # degrees\r\n",
        "\r\n",
        "total = np.zeros(len(data_housing))\r\n",
        "\r\n",
        "for key, values in property_types.items():\r\n",
        "    counts = []\r\n",
        "\r\n",
        "    filtered_prop_types = data_properties[data_properties['property_type'].isin(values)]\r\n",
        "\r\n",
        "    for la_a, lo_a in zip(data_housing.lat, data_housing.long):\r\n",
        "        num_count = 0\r\n",
        "        for la_b, lo_b in zip(filtered_prop_types.latitude, filtered_prop_types.longitude):\r\n",
        "            if (abs(la_a - la_b) > compute_treshold or abs(lo_a - lo_b) > compute_treshold):\r\n",
        "                continue\r\n",
        "            dist = geographicDistance((la_a, lo_a), (la_b, lo_b))\r\n",
        "            if (dist <= min_distance):\r\n",
        "                num_count += 1\r\n",
        "        counts.append(num_count)\r\n",
        "    \r\n",
        "\r\n",
        "    # print(counts)\r\n",
        "    data_housing[key] = counts\r\n",
        "    total = np.add(total, counts)\r\n",
        "\r\n",
        "data_housing['total_score'] = total"
      ],
      "execution_count": 352,
      "outputs": []
    },
    {
      "cell_type": "code",
      "metadata": {
        "id": "EIGjuVLj9hjY",
        "outputId": "fc01ee95-74ad-4add-ccde-ea5812ab34f4",
        "colab": {
          "base_uri": "https://localhost:8080/",
          "height": 609
        }
      },
      "source": [
        "data_housing"
      ],
      "execution_count": 353,
      "outputs": [
        {
          "output_type": "execute_result",
          "data": {
            "text/html": [
              "<div>\n",
              "<style scoped>\n",
              "    .dataframe tbody tr th:only-of-type {\n",
              "        vertical-align: middle;\n",
              "    }\n",
              "\n",
              "    .dataframe tbody tr th {\n",
              "        vertical-align: top;\n",
              "    }\n",
              "\n",
              "    .dataframe thead th {\n",
              "        text-align: right;\n",
              "    }\n",
              "</style>\n",
              "<table border=\"1\" class=\"dataframe\">\n",
              "  <thead>\n",
              "    <tr style=\"text-align: right;\">\n",
              "      <th></th>\n",
              "      <th>date</th>\n",
              "      <th>price</th>\n",
              "      <th>bedrooms</th>\n",
              "      <th>bathrooms</th>\n",
              "      <th>m2_living</th>\n",
              "      <th>m2_lot</th>\n",
              "      <th>floors</th>\n",
              "      <th>waterfront</th>\n",
              "      <th>condition</th>\n",
              "      <th>grade</th>\n",
              "      <th>m2_basement</th>\n",
              "      <th>yr_built</th>\n",
              "      <th>yr_renovated</th>\n",
              "      <th>zip</th>\n",
              "      <th>lat</th>\n",
              "      <th>long</th>\n",
              "      <th>education</th>\n",
              "      <th>culture</th>\n",
              "      <th>store</th>\n",
              "      <th>work</th>\n",
              "      <th>health</th>\n",
              "      <th>services</th>\n",
              "      <th>recreation</th>\n",
              "      <th>total_score</th>\n",
              "    </tr>\n",
              "  </thead>\n",
              "  <tbody>\n",
              "    <tr>\n",
              "      <th>0</th>\n",
              "      <td>2014-10-13</td>\n",
              "      <td>221900</td>\n",
              "      <td>3</td>\n",
              "      <td>1.00</td>\n",
              "      <td>109</td>\n",
              "      <td>520</td>\n",
              "      <td>1.0</td>\n",
              "      <td>0</td>\n",
              "      <td>3</td>\n",
              "      <td>7</td>\n",
              "      <td>0</td>\n",
              "      <td>1955</td>\n",
              "      <td>0</td>\n",
              "      <td>98178</td>\n",
              "      <td>47.5112</td>\n",
              "      <td>-122.257</td>\n",
              "      <td>1</td>\n",
              "      <td>0</td>\n",
              "      <td>0</td>\n",
              "      <td>0</td>\n",
              "      <td>0</td>\n",
              "      <td>0</td>\n",
              "      <td>0</td>\n",
              "      <td>1.0</td>\n",
              "    </tr>\n",
              "    <tr>\n",
              "      <th>1</th>\n",
              "      <td>2014-12-09</td>\n",
              "      <td>538000</td>\n",
              "      <td>3</td>\n",
              "      <td>2.25</td>\n",
              "      <td>236</td>\n",
              "      <td>666</td>\n",
              "      <td>2.0</td>\n",
              "      <td>0</td>\n",
              "      <td>3</td>\n",
              "      <td>7</td>\n",
              "      <td>37</td>\n",
              "      <td>1951</td>\n",
              "      <td>1991</td>\n",
              "      <td>98125</td>\n",
              "      <td>47.7210</td>\n",
              "      <td>-122.319</td>\n",
              "      <td>4</td>\n",
              "      <td>0</td>\n",
              "      <td>1</td>\n",
              "      <td>0</td>\n",
              "      <td>0</td>\n",
              "      <td>0</td>\n",
              "      <td>0</td>\n",
              "      <td>5.0</td>\n",
              "    </tr>\n",
              "    <tr>\n",
              "      <th>2</th>\n",
              "      <td>2014-12-09</td>\n",
              "      <td>604000</td>\n",
              "      <td>4</td>\n",
              "      <td>3.00</td>\n",
              "      <td>180</td>\n",
              "      <td>460</td>\n",
              "      <td>1.0</td>\n",
              "      <td>0</td>\n",
              "      <td>5</td>\n",
              "      <td>7</td>\n",
              "      <td>84</td>\n",
              "      <td>1965</td>\n",
              "      <td>0</td>\n",
              "      <td>98136</td>\n",
              "      <td>47.5208</td>\n",
              "      <td>-122.393</td>\n",
              "      <td>0</td>\n",
              "      <td>1</td>\n",
              "      <td>0</td>\n",
              "      <td>0</td>\n",
              "      <td>0</td>\n",
              "      <td>0</td>\n",
              "      <td>0</td>\n",
              "      <td>1.0</td>\n",
              "    </tr>\n",
              "    <tr>\n",
              "      <th>3</th>\n",
              "      <td>2015-04-15</td>\n",
              "      <td>229500</td>\n",
              "      <td>3</td>\n",
              "      <td>1.00</td>\n",
              "      <td>164</td>\n",
              "      <td>687</td>\n",
              "      <td>1.0</td>\n",
              "      <td>0</td>\n",
              "      <td>3</td>\n",
              "      <td>7</td>\n",
              "      <td>67</td>\n",
              "      <td>1960</td>\n",
              "      <td>0</td>\n",
              "      <td>98146</td>\n",
              "      <td>47.5123</td>\n",
              "      <td>-122.337</td>\n",
              "      <td>2</td>\n",
              "      <td>0</td>\n",
              "      <td>0</td>\n",
              "      <td>0</td>\n",
              "      <td>0</td>\n",
              "      <td>0</td>\n",
              "      <td>0</td>\n",
              "      <td>2.0</td>\n",
              "    </tr>\n",
              "    <tr>\n",
              "      <th>4</th>\n",
              "      <td>2014-05-27</td>\n",
              "      <td>468000</td>\n",
              "      <td>2</td>\n",
              "      <td>1.00</td>\n",
              "      <td>107</td>\n",
              "      <td>552</td>\n",
              "      <td>1.0</td>\n",
              "      <td>0</td>\n",
              "      <td>4</td>\n",
              "      <td>7</td>\n",
              "      <td>28</td>\n",
              "      <td>1942</td>\n",
              "      <td>0</td>\n",
              "      <td>98115</td>\n",
              "      <td>47.6900</td>\n",
              "      <td>-122.292</td>\n",
              "      <td>5</td>\n",
              "      <td>0</td>\n",
              "      <td>2</td>\n",
              "      <td>0</td>\n",
              "      <td>0</td>\n",
              "      <td>0</td>\n",
              "      <td>0</td>\n",
              "      <td>7.0</td>\n",
              "    </tr>\n",
              "    <tr>\n",
              "      <th>...</th>\n",
              "      <td>...</td>\n",
              "      <td>...</td>\n",
              "      <td>...</td>\n",
              "      <td>...</td>\n",
              "      <td>...</td>\n",
              "      <td>...</td>\n",
              "      <td>...</td>\n",
              "      <td>...</td>\n",
              "      <td>...</td>\n",
              "      <td>...</td>\n",
              "      <td>...</td>\n",
              "      <td>...</td>\n",
              "      <td>...</td>\n",
              "      <td>...</td>\n",
              "      <td>...</td>\n",
              "      <td>...</td>\n",
              "      <td>...</td>\n",
              "      <td>...</td>\n",
              "      <td>...</td>\n",
              "      <td>...</td>\n",
              "      <td>...</td>\n",
              "      <td>...</td>\n",
              "      <td>...</td>\n",
              "      <td>...</td>\n",
              "    </tr>\n",
              "    <tr>\n",
              "      <th>7976</th>\n",
              "      <td>2015-02-19</td>\n",
              "      <td>475000</td>\n",
              "      <td>3</td>\n",
              "      <td>2.50</td>\n",
              "      <td>121</td>\n",
              "      <td>119</td>\n",
              "      <td>2.0</td>\n",
              "      <td>0</td>\n",
              "      <td>3</td>\n",
              "      <td>8</td>\n",
              "      <td>12</td>\n",
              "      <td>2008</td>\n",
              "      <td>0</td>\n",
              "      <td>98116</td>\n",
              "      <td>47.5773</td>\n",
              "      <td>-122.409</td>\n",
              "      <td>1</td>\n",
              "      <td>0</td>\n",
              "      <td>0</td>\n",
              "      <td>0</td>\n",
              "      <td>0</td>\n",
              "      <td>0</td>\n",
              "      <td>0</td>\n",
              "      <td>1.0</td>\n",
              "    </tr>\n",
              "    <tr>\n",
              "      <th>7977</th>\n",
              "      <td>2014-05-21</td>\n",
              "      <td>360000</td>\n",
              "      <td>3</td>\n",
              "      <td>2.50</td>\n",
              "      <td>141</td>\n",
              "      <td>104</td>\n",
              "      <td>3.0</td>\n",
              "      <td>0</td>\n",
              "      <td>3</td>\n",
              "      <td>8</td>\n",
              "      <td>0</td>\n",
              "      <td>2009</td>\n",
              "      <td>0</td>\n",
              "      <td>98103</td>\n",
              "      <td>47.6993</td>\n",
              "      <td>-122.346</td>\n",
              "      <td>1</td>\n",
              "      <td>1</td>\n",
              "      <td>1</td>\n",
              "      <td>3</td>\n",
              "      <td>0</td>\n",
              "      <td>0</td>\n",
              "      <td>0</td>\n",
              "      <td>6.0</td>\n",
              "    </tr>\n",
              "    <tr>\n",
              "      <th>7978</th>\n",
              "      <td>2015-02-23</td>\n",
              "      <td>400000</td>\n",
              "      <td>4</td>\n",
              "      <td>2.50</td>\n",
              "      <td>213</td>\n",
              "      <td>535</td>\n",
              "      <td>2.0</td>\n",
              "      <td>0</td>\n",
              "      <td>3</td>\n",
              "      <td>8</td>\n",
              "      <td>0</td>\n",
              "      <td>2014</td>\n",
              "      <td>0</td>\n",
              "      <td>98146</td>\n",
              "      <td>47.5107</td>\n",
              "      <td>-122.362</td>\n",
              "      <td>1</td>\n",
              "      <td>0</td>\n",
              "      <td>0</td>\n",
              "      <td>0</td>\n",
              "      <td>0</td>\n",
              "      <td>0</td>\n",
              "      <td>0</td>\n",
              "      <td>1.0</td>\n",
              "    </tr>\n",
              "    <tr>\n",
              "      <th>7979</th>\n",
              "      <td>2014-06-23</td>\n",
              "      <td>402101</td>\n",
              "      <td>2</td>\n",
              "      <td>0.75</td>\n",
              "      <td>94</td>\n",
              "      <td>124</td>\n",
              "      <td>2.0</td>\n",
              "      <td>0</td>\n",
              "      <td>3</td>\n",
              "      <td>7</td>\n",
              "      <td>0</td>\n",
              "      <td>2009</td>\n",
              "      <td>0</td>\n",
              "      <td>98144</td>\n",
              "      <td>47.5944</td>\n",
              "      <td>-122.299</td>\n",
              "      <td>5</td>\n",
              "      <td>0</td>\n",
              "      <td>3</td>\n",
              "      <td>6</td>\n",
              "      <td>1</td>\n",
              "      <td>0</td>\n",
              "      <td>0</td>\n",
              "      <td>15.0</td>\n",
              "    </tr>\n",
              "    <tr>\n",
              "      <th>7980</th>\n",
              "      <td>2014-10-15</td>\n",
              "      <td>325000</td>\n",
              "      <td>2</td>\n",
              "      <td>0.75</td>\n",
              "      <td>94</td>\n",
              "      <td>99</td>\n",
              "      <td>2.0</td>\n",
              "      <td>0</td>\n",
              "      <td>3</td>\n",
              "      <td>7</td>\n",
              "      <td>0</td>\n",
              "      <td>2008</td>\n",
              "      <td>0</td>\n",
              "      <td>98144</td>\n",
              "      <td>47.5941</td>\n",
              "      <td>-122.299</td>\n",
              "      <td>5</td>\n",
              "      <td>0</td>\n",
              "      <td>3</td>\n",
              "      <td>6</td>\n",
              "      <td>1</td>\n",
              "      <td>0</td>\n",
              "      <td>1</td>\n",
              "      <td>16.0</td>\n",
              "    </tr>\n",
              "  </tbody>\n",
              "</table>\n",
              "<p>7981 rows × 24 columns</p>\n",
              "</div>"
            ],
            "text/plain": [
              "            date   price  bedrooms  ...  services  recreation  total_score\n",
              "0     2014-10-13  221900         3  ...         0           0          1.0\n",
              "1     2014-12-09  538000         3  ...         0           0          5.0\n",
              "2     2014-12-09  604000         4  ...         0           0          1.0\n",
              "3     2015-04-15  229500         3  ...         0           0          2.0\n",
              "4     2014-05-27  468000         2  ...         0           0          7.0\n",
              "...          ...     ...       ...  ...       ...         ...          ...\n",
              "7976  2015-02-19  475000         3  ...         0           0          1.0\n",
              "7977  2014-05-21  360000         3  ...         0           0          6.0\n",
              "7978  2015-02-23  400000         4  ...         0           0          1.0\n",
              "7979  2014-06-23  402101         2  ...         0           0         15.0\n",
              "7980  2014-10-15  325000         2  ...         0           1         16.0\n",
              "\n",
              "[7981 rows x 24 columns]"
            ]
          },
          "metadata": {
            "tags": []
          },
          "execution_count": 353
        }
      ]
    },
    {
      "cell_type": "code",
      "metadata": {
        "id": "5BK-myi0C-Eg"
      },
      "source": [
        "price_m2 = []\r\n",
        "\r\n",
        "for price, m2_lot in zip(data_housing.price, data_housing.m2_lot):\r\n",
        "    price_m2.append(round(price/m2_lot, 2))\r\n",
        "\r\n",
        "data_housing['price_m2'] = price_m2 "
      ],
      "execution_count": 354,
      "outputs": []
    },
    {
      "cell_type": "code",
      "metadata": {
        "id": "JcIE3IIxEq5g",
        "outputId": "03a51614-8cb1-4b99-d67f-dadcc177947b",
        "colab": {
          "base_uri": "https://localhost:8080/",
          "height": 309
        }
      },
      "source": [
        "data_housing.head()"
      ],
      "execution_count": 355,
      "outputs": [
        {
          "output_type": "execute_result",
          "data": {
            "text/html": [
              "<div>\n",
              "<style scoped>\n",
              "    .dataframe tbody tr th:only-of-type {\n",
              "        vertical-align: middle;\n",
              "    }\n",
              "\n",
              "    .dataframe tbody tr th {\n",
              "        vertical-align: top;\n",
              "    }\n",
              "\n",
              "    .dataframe thead th {\n",
              "        text-align: right;\n",
              "    }\n",
              "</style>\n",
              "<table border=\"1\" class=\"dataframe\">\n",
              "  <thead>\n",
              "    <tr style=\"text-align: right;\">\n",
              "      <th></th>\n",
              "      <th>date</th>\n",
              "      <th>price</th>\n",
              "      <th>bedrooms</th>\n",
              "      <th>bathrooms</th>\n",
              "      <th>m2_living</th>\n",
              "      <th>m2_lot</th>\n",
              "      <th>floors</th>\n",
              "      <th>waterfront</th>\n",
              "      <th>condition</th>\n",
              "      <th>grade</th>\n",
              "      <th>m2_basement</th>\n",
              "      <th>yr_built</th>\n",
              "      <th>yr_renovated</th>\n",
              "      <th>zip</th>\n",
              "      <th>lat</th>\n",
              "      <th>long</th>\n",
              "      <th>education</th>\n",
              "      <th>culture</th>\n",
              "      <th>store</th>\n",
              "      <th>work</th>\n",
              "      <th>health</th>\n",
              "      <th>services</th>\n",
              "      <th>recreation</th>\n",
              "      <th>total_score</th>\n",
              "      <th>price_m2</th>\n",
              "    </tr>\n",
              "  </thead>\n",
              "  <tbody>\n",
              "    <tr>\n",
              "      <th>0</th>\n",
              "      <td>2014-10-13</td>\n",
              "      <td>221900</td>\n",
              "      <td>3</td>\n",
              "      <td>1.00</td>\n",
              "      <td>109</td>\n",
              "      <td>520</td>\n",
              "      <td>1.0</td>\n",
              "      <td>0</td>\n",
              "      <td>3</td>\n",
              "      <td>7</td>\n",
              "      <td>0</td>\n",
              "      <td>1955</td>\n",
              "      <td>0</td>\n",
              "      <td>98178</td>\n",
              "      <td>47.5112</td>\n",
              "      <td>-122.257</td>\n",
              "      <td>1</td>\n",
              "      <td>0</td>\n",
              "      <td>0</td>\n",
              "      <td>0</td>\n",
              "      <td>0</td>\n",
              "      <td>0</td>\n",
              "      <td>0</td>\n",
              "      <td>1.0</td>\n",
              "      <td>426.73</td>\n",
              "    </tr>\n",
              "    <tr>\n",
              "      <th>1</th>\n",
              "      <td>2014-12-09</td>\n",
              "      <td>538000</td>\n",
              "      <td>3</td>\n",
              "      <td>2.25</td>\n",
              "      <td>236</td>\n",
              "      <td>666</td>\n",
              "      <td>2.0</td>\n",
              "      <td>0</td>\n",
              "      <td>3</td>\n",
              "      <td>7</td>\n",
              "      <td>37</td>\n",
              "      <td>1951</td>\n",
              "      <td>1991</td>\n",
              "      <td>98125</td>\n",
              "      <td>47.7210</td>\n",
              "      <td>-122.319</td>\n",
              "      <td>4</td>\n",
              "      <td>0</td>\n",
              "      <td>1</td>\n",
              "      <td>0</td>\n",
              "      <td>0</td>\n",
              "      <td>0</td>\n",
              "      <td>0</td>\n",
              "      <td>5.0</td>\n",
              "      <td>807.81</td>\n",
              "    </tr>\n",
              "    <tr>\n",
              "      <th>2</th>\n",
              "      <td>2014-12-09</td>\n",
              "      <td>604000</td>\n",
              "      <td>4</td>\n",
              "      <td>3.00</td>\n",
              "      <td>180</td>\n",
              "      <td>460</td>\n",
              "      <td>1.0</td>\n",
              "      <td>0</td>\n",
              "      <td>5</td>\n",
              "      <td>7</td>\n",
              "      <td>84</td>\n",
              "      <td>1965</td>\n",
              "      <td>0</td>\n",
              "      <td>98136</td>\n",
              "      <td>47.5208</td>\n",
              "      <td>-122.393</td>\n",
              "      <td>0</td>\n",
              "      <td>1</td>\n",
              "      <td>0</td>\n",
              "      <td>0</td>\n",
              "      <td>0</td>\n",
              "      <td>0</td>\n",
              "      <td>0</td>\n",
              "      <td>1.0</td>\n",
              "      <td>1313.04</td>\n",
              "    </tr>\n",
              "    <tr>\n",
              "      <th>3</th>\n",
              "      <td>2015-04-15</td>\n",
              "      <td>229500</td>\n",
              "      <td>3</td>\n",
              "      <td>1.00</td>\n",
              "      <td>164</td>\n",
              "      <td>687</td>\n",
              "      <td>1.0</td>\n",
              "      <td>0</td>\n",
              "      <td>3</td>\n",
              "      <td>7</td>\n",
              "      <td>67</td>\n",
              "      <td>1960</td>\n",
              "      <td>0</td>\n",
              "      <td>98146</td>\n",
              "      <td>47.5123</td>\n",
              "      <td>-122.337</td>\n",
              "      <td>2</td>\n",
              "      <td>0</td>\n",
              "      <td>0</td>\n",
              "      <td>0</td>\n",
              "      <td>0</td>\n",
              "      <td>0</td>\n",
              "      <td>0</td>\n",
              "      <td>2.0</td>\n",
              "      <td>334.06</td>\n",
              "    </tr>\n",
              "    <tr>\n",
              "      <th>4</th>\n",
              "      <td>2014-05-27</td>\n",
              "      <td>468000</td>\n",
              "      <td>2</td>\n",
              "      <td>1.00</td>\n",
              "      <td>107</td>\n",
              "      <td>552</td>\n",
              "      <td>1.0</td>\n",
              "      <td>0</td>\n",
              "      <td>4</td>\n",
              "      <td>7</td>\n",
              "      <td>28</td>\n",
              "      <td>1942</td>\n",
              "      <td>0</td>\n",
              "      <td>98115</td>\n",
              "      <td>47.6900</td>\n",
              "      <td>-122.292</td>\n",
              "      <td>5</td>\n",
              "      <td>0</td>\n",
              "      <td>2</td>\n",
              "      <td>0</td>\n",
              "      <td>0</td>\n",
              "      <td>0</td>\n",
              "      <td>0</td>\n",
              "      <td>7.0</td>\n",
              "      <td>847.83</td>\n",
              "    </tr>\n",
              "  </tbody>\n",
              "</table>\n",
              "</div>"
            ],
            "text/plain": [
              "         date   price  bedrooms  ...  recreation  total_score  price_m2\n",
              "0  2014-10-13  221900         3  ...           0          1.0    426.73\n",
              "1  2014-12-09  538000         3  ...           0          5.0    807.81\n",
              "2  2014-12-09  604000         4  ...           0          1.0   1313.04\n",
              "3  2015-04-15  229500         3  ...           0          2.0    334.06\n",
              "4  2014-05-27  468000         2  ...           0          7.0    847.83\n",
              "\n",
              "[5 rows x 25 columns]"
            ]
          },
          "metadata": {
            "tags": []
          },
          "execution_count": 355
        }
      ]
    },
    {
      "cell_type": "code",
      "metadata": {
        "id": "sH60J3hqnSEQ",
        "outputId": "d08c0be3-a03e-4cd1-83f6-12c382ebbe35",
        "colab": {
          "base_uri": "https://localhost:8080/"
        }
      },
      "source": [
        "data_housing.culture.unique()"
      ],
      "execution_count": 356,
      "outputs": [
        {
          "output_type": "execute_result",
          "data": {
            "text/plain": [
              "array([0, 1, 2, 3, 4])"
            ]
          },
          "metadata": {
            "tags": []
          },
          "execution_count": 356
        }
      ]
    },
    {
      "cell_type": "code",
      "metadata": {
        "id": "xOGKOvDl9oFp",
        "outputId": "b1a609e8-f66a-42c2-8858-65a364a49d3e",
        "colab": {
          "base_uri": "https://localhost:8080/",
          "height": 405
        }
      },
      "source": [
        "data = data_housing[data_housing.price < 1000000]\r\n",
        "\r\n",
        "fig, axs = plt.subplots(1, 4, figsize=(25,6))\r\n",
        "\r\n",
        "sns.regplot(x=data.education, y=data.price_m2, ax=axs[0], line_kws={'color':'red'})\r\n",
        "# axs[0].set_title('asd')\r\n",
        "\r\n",
        "sns.regplot(x=data.culture, y=data.price_m2, ax=axs[1], line_kws={'color':'red'})\r\n",
        "# axs[1].set_title('asd')\r\n",
        "\r\n",
        "sns.regplot(x=data.store, y=data.price_m2, ax=axs[2], line_kws={'color':'red'})\r\n",
        "# axs[2].set_title('asd')\r\n",
        "\r\n",
        "sns.regplot(x=data.work, y=data.price_m2, ax=axs[3], line_kws={'color':'red'})\r\n",
        "# axs[3].set_title('asd')"
      ],
      "execution_count": 357,
      "outputs": [
        {
          "output_type": "execute_result",
          "data": {
            "text/plain": [
              "<matplotlib.axes._subplots.AxesSubplot at 0x7f05eb070290>"
            ]
          },
          "metadata": {
            "tags": []
          },
          "execution_count": 357
        },
        {
          "output_type": "display_data",
          "data": {
            "image/png": "[encoded data removed]",
            "text/plain": [
              "<Figure size 1800x432 with 4 Axes>"
            ]
          },
          "metadata": {
            "tags": [],
            "needs_background": "light"
          }
        }
      ]
    },
    {
      "cell_type": "code",
      "metadata": {
        "id": "HueauNuPCSNG",
        "outputId": "5aa773b8-622d-48b2-8bdc-25233a3c11e7",
        "colab": {
          "base_uri": "https://localhost:8080/",
          "height": 405
        }
      },
      "source": [
        "fig, axs = plt.subplots(1, 3, figsize=(20,6))\r\n",
        "\r\n",
        "sns.regplot(x=data.health, y=data.price_m2, ax=axs[0], line_kws={'color':'red'})\r\n",
        "# axs[0].set_title('asd')\r\n",
        "\r\n",
        "sns.regplot(x=data.services, y=data.price_m2, ax=axs[1], line_kws={'color':'red'})\r\n",
        "# axs[1].set_title('asd')\r\n",
        "\r\n",
        "sns.regplot(x=data.recreation, y=data.price_m2, ax=axs[2], line_kws={'color':'red'})\r\n",
        "# axs[2].set_title('asd')"
      ],
      "execution_count": 358,
      "outputs": [
        {
          "output_type": "execute_result",
          "data": {
            "text/plain": [
              "<matplotlib.axes._subplots.AxesSubplot at 0x7f05eaf092d0>"
            ]
          },
          "metadata": {
            "tags": []
          },
          "execution_count": 358
        },
        {
          "output_type": "display_data",
          "data": {
            "image/png": "[encoded data removed]",
            "text/plain": [
              "<Figure size 1440x432 with 3 Axes>"
            ]
          },
          "metadata": {
            "tags": [],
            "needs_background": "light"
          }
        }
      ]
    },
    {
      "cell_type": "code",
      "metadata": {
        "id": "OaXeJLfENBaV",
        "outputId": "64995908-e239-4271-891c-93589d971537",
        "colab": {
          "base_uri": "https://localhost:8080/",
          "height": 297
        }
      },
      "source": [
        "sns.regplot(x=data.total_score, y=data.price_m2, line_kws={'color':'red'})"
      ],
      "execution_count": 359,
      "outputs": [
        {
          "output_type": "execute_result",
          "data": {
            "text/plain": [
              "<matplotlib.axes._subplots.AxesSubplot at 0x7f05eb201290>"
            ]
          },
          "metadata": {
            "tags": []
          },
          "execution_count": 359
        },
        {
          "output_type": "display_data",
          "data": {
            "image/png": "[encoded data removed]",
            "text/plain": [
              "<Figure size 432x288 with 1 Axes>"
            ]
          },
          "metadata": {
            "tags": [],
            "needs_background": "light"
          }
        }
      ]
    },
    {
      "cell_type": "code",
      "metadata": {
        "id": "ReL49VaXAGeE",
        "outputId": "a22a8861-aaf2-439b-8095-4d9c024bf7cf",
        "colab": {
          "base_uri": "https://localhost:8080/",
          "height": 350
        }
      },
      "source": [
        "plt.hist(data.price_m2, bins=10)"
      ],
      "execution_count": 360,
      "outputs": [
        {
          "output_type": "execute_result",
          "data": {
            "text/plain": [
              "(array([4.916e+03, 1.614e+03, 5.560e+02, 2.430e+02, 5.200e+01, 1.500e+01,\n",
              "        5.000e+00, 4.000e+00, 0.000e+00, 1.000e+00]),\n",
              " array([   45.99 ,  1499.724,  2953.458,  4407.192,  5860.926,  7314.66 ,\n",
              "         8768.394, 10222.128, 11675.862, 13129.596, 14583.33 ]),\n",
              " <a list of 10 Patch objects>)"
            ]
          },
          "metadata": {
            "tags": []
          },
          "execution_count": 360
        },
        {
          "output_type": "display_data",
          "data": {
            "image/png": "[encoded data removed]",
            "text/plain": [
              "<Figure size 432x288 with 1 Axes>"
            ]
          },
          "metadata": {
            "tags": [],
            "needs_background": "light"
          }
        }
      ]
    },
    {
      "cell_type": "code",
      "metadata": {
        "id": "75s6fTcLGFFW",
        "outputId": "cd855dba-e2d1-4bfc-8ecd-960e5932660d",
        "colab": {
          "base_uri": "https://localhost:8080/",
          "height": 350
        }
      },
      "source": [
        "import seaborn as sns\r\n",
        "\r\n",
        "sns.regplot(data.education, data.price_m2, line_kws={'color':'red'})"
      ],
      "execution_count": 361,
      "outputs": [
        {
          "output_type": "stream",
          "text": [
            "/usr/local/lib/python3.7/dist-packages/seaborn/_decorators.py:43: FutureWarning: Pass the following variables as keyword args: x, y. From version 0.12, the only valid positional argument will be `data`, and passing other arguments without an explicit keyword will result in an error or misinterpretation.\n",
            "  FutureWarning\n"
          ],
          "name": "stderr"
        },
        {
          "output_type": "execute_result",
          "data": {
            "text/plain": [
              "<matplotlib.axes._subplots.AxesSubplot at 0x7f05eacd9f50>"
            ]
          },
          "metadata": {
            "tags": []
          },
          "execution_count": 361
        },
        {
          "output_type": "display_data",
          "data": {
            "image/png": "[encoded data removed]",
            "text/plain": [
              "<Figure size 432x288 with 1 Axes>"
            ]
          },
          "metadata": {
            "tags": [],
            "needs_background": "light"
          }
        }
      ]
    },
    {
      "cell_type": "code",
      "metadata": {
        "id": "dtl8TROsQBgc",
        "outputId": "92952e7f-0df0-4824-dcf1-48fd8787c9f7",
        "colab": {
          "base_uri": "https://localhost:8080/",
          "height": 35
        }
      },
      "source": [
        "data.date[0]"
      ],
      "execution_count": 362,
      "outputs": [
        {
          "output_type": "execute_result",
          "data": {
            "application/vnd.google.colaboratory.intrinsic+json": {
              "type": "string"
            },
            "text/plain": [
              "'2014-10-13'"
            ]
          },
          "metadata": {
            "tags": []
          },
          "execution_count": 362
        }
      ]
    },
    {
      "cell_type": "code",
      "metadata": {
        "id": "-ZHQONtUQE3P"
      },
      "source": [
        "import datetime"
      ],
      "execution_count": 363,
      "outputs": []
    },
    {
      "cell_type": "code",
      "metadata": {
        "id": "G7fQo66eQKoo",
        "outputId": "b88b6e29-2cab-4808-aa53-0bbdf30f4266",
        "colab": {
          "base_uri": "https://localhost:8080/"
        }
      },
      "source": [
        "date_time_str = '20141013T000000'\r\n",
        "date_time_obj = datetime.datetime.strptime(date_time_str, '%Y%m%dT%H%M%S')\r\n",
        "date_time_obj"
      ],
      "execution_count": 364,
      "outputs": [
        {
          "output_type": "execute_result",
          "data": {
            "text/plain": [
              "datetime.datetime(2014, 10, 13, 0, 0)"
            ]
          },
          "metadata": {
            "tags": []
          },
          "execution_count": 364
        }
      ]
    },
    {
      "cell_type": "code",
      "metadata": {
        "id": "mJBxC2zPQQ4Y"
      },
      "source": [
        ""
      ],
      "execution_count": 364,
      "outputs": []
    }
  ]
}