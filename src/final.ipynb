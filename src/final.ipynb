{
  "nbformat": 4,
  "nbformat_minor": 0,
  "metadata": {
    "language_info": {
      "codemirror_mode": {
        "name": "ipython",
        "version": 3
      },
      "file_extension": ".py",
      "mimetype": "text/x-python",
      "name": "python",
      "nbconvert_exporter": "python",
      "pygments_lexer": "ipython3",
      "version": "3.8.6-final"
    },
    "orig_nbformat": 2,
    "kernelspec": {
      "name": "python3",
      "display_name": "Python 3.8.6 64-bit",
      "metadata": {
        "interpreter": {
          "hash": "122b684e0147009c315d6711cdbb4bc67c0b28d0ba10cdfcd148f2449410c391"
        }
      }
    },
    "colab": {
      "name": "final.ipynb",
      "provenance": [],
      "include_colab_link": true
    }
  },
  "cells": [
    {
      "cell_type": "markdown",
      "metadata": {
        "id": "view-in-github",
        "colab_type": "text"
      },
      "source": [
        "<a href=\"https://colab.research.google.com/github/jafetimbre/mib-fiesta/blob/master/src/final.ipynb\" target=\"_parent\"><img src=\"https://colab.research.google.com/assets/colab-badge.svg\" alt=\"Open In Colab\"/></a>"
      ]
    },
    {
      "cell_type": "markdown",
      "metadata": {
        "id": "Ts3tecBZS2UC"
      },
      "source": [
        "# Proiect la materia \"*Stiinta datelor folosind Python*\"\r\n",
        "\r\n",
        "Studenti masteranzi:\r\n",
        "*   Muraru Madalina-Maria\r\n",
        "*   Beresescu Mihai-Cristian\r\n",
        "*   Imbre Jozsef-Jafet \r\n",
        "\r\n",
        "\r\n",
        "Acest proiect contine atat pregatirea, filtrarea si aranjarea datelor cat si analiza statistica a acestora."
      ]
    },
    {
      "cell_type": "code",
      "metadata": {
        "id": "uf6BwuueY6Nv"
      },
      "source": [
        "import pandas as pd\r\n",
        "import numpy as np\r\n",
        "import matplotlib.pyplot as plt\r\n",
        "import datetime"
      ],
      "execution_count": 1,
      "outputs": []
    },
    {
      "cell_type": "markdown",
      "metadata": {
        "id": "iNLnrcdEUgnc"
      },
      "source": [
        "## 1. Descrierea si preprocesarea datelor\r\n",
        "\r\n",
        "Pentru acest proiect s-au ales doua seturi de date cu o legatura intre acestea. Ambele contin entitati de proprietati aflate in jurul orasului Seattle, Washington, din Statele Unite ale Americii.\r\n",
        "\r\n",
        "*   **Primul set de date**: contine inregistrari despre casele de vanzare in apropierea orasului\r\n",
        "*   **Al doilea set de date**: contine inregistrari despre diferite unitati non rezidentiale (scoli, spitale, parcuri, etc.)\r\n",
        "\r\n"
      ]
    },
    {
      "cell_type": "markdown",
      "metadata": {
        "id": "RTXEDDQgWIda"
      },
      "source": [
        "### 1.1 Descrierea seturilor de date"
      ]
    },
    {
      "cell_type": "markdown",
      "metadata": {
        "id": "RSFqixVcZNfK"
      },
      "source": [
        "Atributele primului set de date (casele de vanzare) :\r\n",
        "\r\n",
        "*   **price**: pretul cu care a fost vanduta locuinta\r\n",
        "*   **bedrooms**:  numarul dormitoarelor\r\n",
        "*   **bathrooms**: numarul de bai/dormitoare\r\n",
        "*   **sqft_living**: suprafata utila locuibila\r\n",
        "*   **sqft_lot**: ntreaga suprafata\r\n",
        "*   **floors**: numarul etajelor\r\n",
        "*   **waterfront**: locuinta pe malul unei ape\r\n",
        "*   **condition**: gradul de confort per total\r\n",
        "*   **grade**: nota locuintel dupa standardul Seattle\r\n",
        "*   **yr_built**: anul construirii\r\n",
        "*   **yr_renovated**: anul renovarii\r\n",
        "*   **zipcode**: codul postal\r\n",
        "*   **lat**: latitudinea\r\n",
        "*   **long**: longitudinea\r\n",
        "\r\n",
        "De sigur, aceste campuri se filtreaza si se efectueaza transformarile aferente (ex. sqrft -> m2)"
      ]
    },
    {
      "cell_type": "code",
      "metadata": {
        "colab": {
          "base_uri": "https://localhost:8080/",
          "height": 204
        },
        "id": "wUOmwMVHZEhO",
        "outputId": "aca74002-f173-40fd-c0f6-f1bd4356fbbc"
      },
      "source": [
        "housing_columns = [ 'date', 'price', 'bedrooms', 'bathrooms', 'sqft_living', 'sqft_lot', 'floors', 'waterfront', \r\n",
        "                    'condition', 'grade', 'sqft_basement', 'yr_built', 'yr_renovated' ,'zipcode', 'lat', 'long' ]\r\n",
        "\r\n",
        "housing_data = pd.read_csv('https://raw.githubusercontent.com/jafetimbre/mib-fiesta/master/data/housing.csv', usecols=housing_columns)\r\n",
        "housing_data.head()"
      ],
      "execution_count": 2,
      "outputs": [
        {
          "output_type": "execute_result",
          "data": {
            "text/html": [
              "<div>\n",
              "<style scoped>\n",
              "    .dataframe tbody tr th:only-of-type {\n",
              "        vertical-align: middle;\n",
              "    }\n",
              "\n",
              "    .dataframe tbody tr th {\n",
              "        vertical-align: top;\n",
              "    }\n",
              "\n",
              "    .dataframe thead th {\n",
              "        text-align: right;\n",
              "    }\n",
              "</style>\n",
              "<table border=\"1\" class=\"dataframe\">\n",
              "  <thead>\n",
              "    <tr style=\"text-align: right;\">\n",
              "      <th></th>\n",
              "      <th>date</th>\n",
              "      <th>price</th>\n",
              "      <th>bedrooms</th>\n",
              "      <th>bathrooms</th>\n",
              "      <th>sqft_living</th>\n",
              "      <th>sqft_lot</th>\n",
              "      <th>floors</th>\n",
              "      <th>waterfront</th>\n",
              "      <th>condition</th>\n",
              "      <th>grade</th>\n",
              "      <th>sqft_basement</th>\n",
              "      <th>yr_built</th>\n",
              "      <th>yr_renovated</th>\n",
              "      <th>zipcode</th>\n",
              "      <th>lat</th>\n",
              "      <th>long</th>\n",
              "    </tr>\n",
              "  </thead>\n",
              "  <tbody>\n",
              "    <tr>\n",
              "      <th>0</th>\n",
              "      <td>20141013T000000</td>\n",
              "      <td>221900</td>\n",
              "      <td>3</td>\n",
              "      <td>1.00</td>\n",
              "      <td>1180</td>\n",
              "      <td>5650</td>\n",
              "      <td>1.0</td>\n",
              "      <td>0</td>\n",
              "      <td>3</td>\n",
              "      <td>7</td>\n",
              "      <td>0</td>\n",
              "      <td>1955</td>\n",
              "      <td>0</td>\n",
              "      <td>98178</td>\n",
              "      <td>47.5112</td>\n",
              "      <td>-122.257</td>\n",
              "    </tr>\n",
              "    <tr>\n",
              "      <th>1</th>\n",
              "      <td>20141209T000000</td>\n",
              "      <td>538000</td>\n",
              "      <td>3</td>\n",
              "      <td>2.25</td>\n",
              "      <td>2570</td>\n",
              "      <td>7242</td>\n",
              "      <td>2.0</td>\n",
              "      <td>0</td>\n",
              "      <td>3</td>\n",
              "      <td>7</td>\n",
              "      <td>400</td>\n",
              "      <td>1951</td>\n",
              "      <td>1991</td>\n",
              "      <td>98125</td>\n",
              "      <td>47.7210</td>\n",
              "      <td>-122.319</td>\n",
              "    </tr>\n",
              "    <tr>\n",
              "      <th>2</th>\n",
              "      <td>20150225T000000</td>\n",
              "      <td>180000</td>\n",
              "      <td>2</td>\n",
              "      <td>1.00</td>\n",
              "      <td>770</td>\n",
              "      <td>10000</td>\n",
              "      <td>1.0</td>\n",
              "      <td>0</td>\n",
              "      <td>3</td>\n",
              "      <td>6</td>\n",
              "      <td>0</td>\n",
              "      <td>1933</td>\n",
              "      <td>0</td>\n",
              "      <td>98028</td>\n",
              "      <td>47.7379</td>\n",
              "      <td>-122.233</td>\n",
              "    </tr>\n",
              "    <tr>\n",
              "      <th>3</th>\n",
              "      <td>20141209T000000</td>\n",
              "      <td>604000</td>\n",
              "      <td>4</td>\n",
              "      <td>3.00</td>\n",
              "      <td>1960</td>\n",
              "      <td>5000</td>\n",
              "      <td>1.0</td>\n",
              "      <td>0</td>\n",
              "      <td>5</td>\n",
              "      <td>7</td>\n",
              "      <td>910</td>\n",
              "      <td>1965</td>\n",
              "      <td>0</td>\n",
              "      <td>98136</td>\n",
              "      <td>47.5208</td>\n",
              "      <td>-122.393</td>\n",
              "    </tr>\n",
              "    <tr>\n",
              "      <th>4</th>\n",
              "      <td>20150218T000000</td>\n",
              "      <td>510000</td>\n",
              "      <td>3</td>\n",
              "      <td>2.00</td>\n",
              "      <td>1680</td>\n",
              "      <td>8080</td>\n",
              "      <td>1.0</td>\n",
              "      <td>0</td>\n",
              "      <td>3</td>\n",
              "      <td>8</td>\n",
              "      <td>0</td>\n",
              "      <td>1987</td>\n",
              "      <td>0</td>\n",
              "      <td>98074</td>\n",
              "      <td>47.6168</td>\n",
              "      <td>-122.045</td>\n",
              "    </tr>\n",
              "  </tbody>\n",
              "</table>\n",
              "</div>"
            ],
            "text/plain": [
              "              date   price  bedrooms  ...  zipcode      lat     long\n",
              "0  20141013T000000  221900         3  ...    98178  47.5112 -122.257\n",
              "1  20141209T000000  538000         3  ...    98125  47.7210 -122.319\n",
              "2  20150225T000000  180000         2  ...    98028  47.7379 -122.233\n",
              "3  20141209T000000  604000         4  ...    98136  47.5208 -122.393\n",
              "4  20150218T000000  510000         3  ...    98074  47.6168 -122.045\n",
              "\n",
              "[5 rows x 16 columns]"
            ]
          },
          "metadata": {
            "tags": []
          },
          "execution_count": 2
        }
      ]
    },
    {
      "cell_type": "markdown",
      "metadata": {
        "id": "td3gvj-Bbg2l"
      },
      "source": [
        "Al doilea set de date ales este un set ajutator, care contine anumite cladiri relevante din imprejurimile caselor primului dataset.\r\n",
        "\r\n",
        "*   BuildingTypeName: Tipul Cladirii\r\n",
        "*   PropertyTypeEPA: Propietatea (spital,restaurant,gradinita)\r\n",
        "*   City: Orasul\r\n",
        "*   Zip: Cod postal\r\n",
        "*   Neighborhood: Cartierul\r\n",
        "*   Longitude: Longitudinea\r\n",
        "*   Latitude: Latitudinea\r\n",
        "\r\n",
        "Asemanator cu primul set, se vor adauga doar campurile necesare. De exemplu, fiind vorba de orasul Seattle, coloana \"City\" se poate elimina. \r\n"
      ]
    },
    {
      "cell_type": "code",
      "metadata": {
        "colab": {
          "base_uri": "https://localhost:8080/",
          "height": 204
        },
        "id": "1vP0HVg_cR8u",
        "outputId": "b50f0232-120a-4342-ea1e-386fc142a3f5"
      },
      "source": [
        "property_columns = [ 'BuildingTypeName', 'PropertyTypeEPA', 'City', 'Zip', 'Neighborhood', 'Latitude', 'Longitude' ]\r\n",
        "property_data = pd.read_csv('https://raw.githubusercontent.com/jafetimbre/mib-fiesta/master/data/property_types.csv', usecols=property_columns)\r\n",
        "property_data.head()"
      ],
      "execution_count": 3,
      "outputs": [
        {
          "output_type": "execute_result",
          "data": {
            "text/html": [
              "<div>\n",
              "<style scoped>\n",
              "    .dataframe tbody tr th:only-of-type {\n",
              "        vertical-align: middle;\n",
              "    }\n",
              "\n",
              "    .dataframe tbody tr th {\n",
              "        vertical-align: top;\n",
              "    }\n",
              "\n",
              "    .dataframe thead th {\n",
              "        text-align: right;\n",
              "    }\n",
              "</style>\n",
              "<table border=\"1\" class=\"dataframe\">\n",
              "  <thead>\n",
              "    <tr style=\"text-align: right;\">\n",
              "      <th></th>\n",
              "      <th>BuildingTypeName</th>\n",
              "      <th>PropertyTypeEPA</th>\n",
              "      <th>City</th>\n",
              "      <th>Zip</th>\n",
              "      <th>Neighborhood</th>\n",
              "      <th>Latitude</th>\n",
              "      <th>Longitude</th>\n",
              "    </tr>\n",
              "  </thead>\n",
              "  <tbody>\n",
              "    <tr>\n",
              "      <th>0</th>\n",
              "      <td>NonResidential</td>\n",
              "      <td>Hotel</td>\n",
              "      <td>SEATTLE</td>\n",
              "      <td>98101</td>\n",
              "      <td>DOWNTOWN</td>\n",
              "      <td>47.612190</td>\n",
              "      <td>-122.337997</td>\n",
              "    </tr>\n",
              "    <tr>\n",
              "      <th>1</th>\n",
              "      <td>NonResidential</td>\n",
              "      <td>Hotel</td>\n",
              "      <td>SEATTLE</td>\n",
              "      <td>98101</td>\n",
              "      <td>DOWNTOWN</td>\n",
              "      <td>47.613106</td>\n",
              "      <td>-122.333358</td>\n",
              "    </tr>\n",
              "    <tr>\n",
              "      <th>2</th>\n",
              "      <td>NonResidential</td>\n",
              "      <td>Hotel</td>\n",
              "      <td>SEATTLE</td>\n",
              "      <td>98101</td>\n",
              "      <td>DOWNTOWN</td>\n",
              "      <td>47.613349</td>\n",
              "      <td>-122.337699</td>\n",
              "    </tr>\n",
              "    <tr>\n",
              "      <th>3</th>\n",
              "      <td>NonResidential</td>\n",
              "      <td>Hotel</td>\n",
              "      <td>SEATTLE</td>\n",
              "      <td>98101</td>\n",
              "      <td>DOWNTOWN</td>\n",
              "      <td>47.614216</td>\n",
              "      <td>-122.336609</td>\n",
              "    </tr>\n",
              "    <tr>\n",
              "      <th>4</th>\n",
              "      <td>NonResidential</td>\n",
              "      <td>Hotel</td>\n",
              "      <td>SEATTLE</td>\n",
              "      <td>98121</td>\n",
              "      <td>DOWNTOWN</td>\n",
              "      <td>47.613754</td>\n",
              "      <td>-122.340924</td>\n",
              "    </tr>\n",
              "  </tbody>\n",
              "</table>\n",
              "</div>"
            ],
            "text/plain": [
              "  BuildingTypeName PropertyTypeEPA     City  ...  Neighborhood   Latitude   Longitude\n",
              "0   NonResidential           Hotel  SEATTLE  ...      DOWNTOWN  47.612190 -122.337997\n",
              "1   NonResidential           Hotel  SEATTLE  ...      DOWNTOWN  47.613106 -122.333358\n",
              "2   NonResidential           Hotel  SEATTLE  ...      DOWNTOWN  47.613349 -122.337699\n",
              "3   NonResidential           Hotel  SEATTLE  ...      DOWNTOWN  47.614216 -122.336609\n",
              "4   NonResidential           Hotel  SEATTLE  ...      DOWNTOWN  47.613754 -122.340924\n",
              "\n",
              "[5 rows x 7 columns]"
            ]
          },
          "metadata": {
            "tags": []
          },
          "execution_count": 3
        }
      ]
    },
    {
      "cell_type": "markdown",
      "metadata": {
        "id": "GAWnVW6GcXf5"
      },
      "source": [
        "De sigur, unele coloane au ramas incluse deoarece se vor folosi pentru a manipula/creea alte coloane, dupa care se vor elimina."
      ]
    },
    {
      "cell_type": "markdown",
      "metadata": {
        "id": "FyLbg4F4WYfZ"
      },
      "source": [
        "### 1.2 Preprocesarea si filtrarea datelor\r\n",
        "\r\n",
        "Ca prim pas, se vor extrage codurile postale comune printr-o simpla intersectie. Aceasta informatie va ajuta la eliminarea inregistrarilor ne-relevante."
      ]
    },
    {
      "cell_type": "code",
      "metadata": {
        "colab": {
          "base_uri": "https://localhost:8080/"
        },
        "id": "pAQorHJuc0ij",
        "outputId": "f3731d29-c813-41d0-b0f0-f6d86b53217f"
      },
      "source": [
        "housing_data_ZIPs = housing_data.zipcode.unique()\r\n",
        "property_data_ZIPs = property_data.Zip.unique()\r\n",
        "\r\n",
        "zip_comon = list(set(housing_data_ZIPs).intersection(property_data_ZIPs))\r\n",
        "print(zip_comon)\r\n",
        "\r\n",
        "housing_data = housing_data[housing_data.zipcode.map(lambda e: e in zip_comon)]\r\n",
        "property_data = property_data[property_data.Zip.map(lambda e: e in zip_comon)]"
      ],
      "execution_count": 4,
      "outputs": [
        {
          "output_type": "stream",
          "text": [
            "[98177, 98178, 98199, 98102, 98103, 98105, 98106, 98107, 98108, 98109, 98112, 98115, 98116, 98117, 98118, 98119, 98122, 98125, 98126, 98133, 98136, 98144, 98146, 98155]\n"
          ],
          "name": "stdout"
        }
      ]
    },
    {
      "cell_type": "markdown",
      "metadata": {
        "id": "QQuJmK8me5MO"
      },
      "source": [
        "Pentru primul set, se vor transpune unitatile de masura imperiale in unitati de masura metrice, prin formula:\r\n",
        "\r\n",
        "> 1 ft<sup>2</sup> = 0.092 m<sup>2</sup>\r\n",
        "\r\n",
        "Totodata se va transpune formatul de timp corespunzator."
      ]
    },
    {
      "cell_type": "code",
      "metadata": {
        "id": "nmZvXd4je4_-"
      },
      "source": [
        "housing_data.sqft_living = housing_data.sqft_living.apply(lambda e: round(e * 0.092))\r\n",
        "housing_data.sqft_lot = housing_data.sqft_lot.apply(lambda e: round(e * 0.092))\r\n",
        "housing_data.sqft_basement = housing_data.sqft_basement.apply(lambda e: round(e * 0.092))\r\n",
        "\r\n",
        "housing_data.date = housing_data.date.apply(lambda e: datetime.datetime.strptime(e, '%Y%m%dT%H%M%S'))"
      ],
      "execution_count": 5,
      "outputs": []
    },
    {
      "cell_type": "markdown",
      "metadata": {
        "id": "iVm3G6Arg-mP"
      },
      "source": [
        "Deoarece ne intereseaza doar entitatile non-rezidentiale din setul de date secundar, acestea se vor elimina complet, impreuna cu colanele specifice."
      ]
    },
    {
      "cell_type": "code",
      "metadata": {
        "id": "mqDR_AO4g-xM"
      },
      "source": [
        "property_data = property_data[property_data.BuildingTypeName.map(lambda e: e in ['NonResidential', 'Nonresidential COS', 'SPS-District K-12', 'Campus'])]\r\n",
        "property_data = property_data[property_data.City.map(lambda e: e == 'SEATTLE')]\r\n",
        "\r\n",
        "property_data = property_data[property_data.PropertyTypeEPA.map(lambda e: e != 'Hotel')]\r\n",
        "property_data = property_data.drop(['BuildingTypeName', 'City'], axis=1)"
      ],
      "execution_count": 6,
      "outputs": []
    },
    {
      "cell_type": "markdown",
      "metadata": {
        "id": "bDLUSQHkeSmZ"
      },
      "source": [
        "Pentru o consistenta in numele coloanelor, acestea se redenumesc."
      ]
    },
    {
      "cell_type": "code",
      "metadata": {
        "id": "_QColw9bebhG"
      },
      "source": [
        "housing_data = housing_data.rename(columns={'sqft_living': 'm2_living', 'sqft_lot':'m2_lot', 'sqft_basement':'m2_basement', 'zipcode':'zip'})\r\n",
        "property_data = property_data.rename(columns={'PropertyTypeEPA': 'property_type', 'Zip': 'zip', 'Neighborhood':'neighborhood', 'Latitude': 'latitude', 'Longitude':'longitude'})"
      ],
      "execution_count": 7,
      "outputs": []
    },
    {
      "cell_type": "markdown",
      "metadata": {
        "id": "4sc1NN7vgln5"
      },
      "source": [
        "Inaintea exportari seturilor de date curatate si pregatite de analiza, se mai elimina valorile nule si se reseteaza indecsi de tabel."
      ]
    },
    {
      "cell_type": "code",
      "metadata": {
        "id": "9-nQ0Ig3gOLN"
      },
      "source": [
        "housing_data.dropna(inplace=True)\r\n",
        "housing_data.reset_index(drop=True)\r\n",
        "\r\n",
        "property_data.dropna(inplace=True)\r\n",
        "property_data.reset_index(drop=True)\r\n",
        "\r\n",
        "housing_data.to_csv('housing_data_cleaned.csv', index = False, header=True)\r\n",
        "property_data.to_csv('property_data_cleaned.csv', index = False, header=True)"
      ],
      "execution_count": 8,
      "outputs": []
    },
    {
      "cell_type": "markdown",
      "metadata": {
        "id": "0RGUHkLvhqJJ"
      },
      "source": [
        "Dupa curatarea datelor din acesta, primul set arata astfel:"
      ]
    },
    {
      "cell_type": "code",
      "metadata": {
        "colab": {
          "base_uri": "https://localhost:8080/",
          "height": 204
        },
        "id": "DVvFuZDMhviG",
        "outputId": "3de1b0db-a10f-4c26-8f7b-db41f49a4bff"
      },
      "source": [
        "housing_data.head()"
      ],
      "execution_count": 9,
      "outputs": [
        {
          "output_type": "execute_result",
          "data": {
            "text/html": [
              "<div>\n",
              "<style scoped>\n",
              "    .dataframe tbody tr th:only-of-type {\n",
              "        vertical-align: middle;\n",
              "    }\n",
              "\n",
              "    .dataframe tbody tr th {\n",
              "        vertical-align: top;\n",
              "    }\n",
              "\n",
              "    .dataframe thead th {\n",
              "        text-align: right;\n",
              "    }\n",
              "</style>\n",
              "<table border=\"1\" class=\"dataframe\">\n",
              "  <thead>\n",
              "    <tr style=\"text-align: right;\">\n",
              "      <th></th>\n",
              "      <th>date</th>\n",
              "      <th>price</th>\n",
              "      <th>bedrooms</th>\n",
              "      <th>bathrooms</th>\n",
              "      <th>m2_living</th>\n",
              "      <th>m2_lot</th>\n",
              "      <th>floors</th>\n",
              "      <th>waterfront</th>\n",
              "      <th>condition</th>\n",
              "      <th>grade</th>\n",
              "      <th>m2_basement</th>\n",
              "      <th>yr_built</th>\n",
              "      <th>yr_renovated</th>\n",
              "      <th>zip</th>\n",
              "      <th>lat</th>\n",
              "      <th>long</th>\n",
              "    </tr>\n",
              "  </thead>\n",
              "  <tbody>\n",
              "    <tr>\n",
              "      <th>0</th>\n",
              "      <td>2014-10-13</td>\n",
              "      <td>221900</td>\n",
              "      <td>3</td>\n",
              "      <td>1.00</td>\n",
              "      <td>109</td>\n",
              "      <td>520</td>\n",
              "      <td>1.0</td>\n",
              "      <td>0</td>\n",
              "      <td>3</td>\n",
              "      <td>7</td>\n",
              "      <td>0</td>\n",
              "      <td>1955</td>\n",
              "      <td>0</td>\n",
              "      <td>98178</td>\n",
              "      <td>47.5112</td>\n",
              "      <td>-122.257</td>\n",
              "    </tr>\n",
              "    <tr>\n",
              "      <th>1</th>\n",
              "      <td>2014-12-09</td>\n",
              "      <td>538000</td>\n",
              "      <td>3</td>\n",
              "      <td>2.25</td>\n",
              "      <td>236</td>\n",
              "      <td>666</td>\n",
              "      <td>2.0</td>\n",
              "      <td>0</td>\n",
              "      <td>3</td>\n",
              "      <td>7</td>\n",
              "      <td>37</td>\n",
              "      <td>1951</td>\n",
              "      <td>1991</td>\n",
              "      <td>98125</td>\n",
              "      <td>47.7210</td>\n",
              "      <td>-122.319</td>\n",
              "    </tr>\n",
              "    <tr>\n",
              "      <th>3</th>\n",
              "      <td>2014-12-09</td>\n",
              "      <td>604000</td>\n",
              "      <td>4</td>\n",
              "      <td>3.00</td>\n",
              "      <td>180</td>\n",
              "      <td>460</td>\n",
              "      <td>1.0</td>\n",
              "      <td>0</td>\n",
              "      <td>5</td>\n",
              "      <td>7</td>\n",
              "      <td>84</td>\n",
              "      <td>1965</td>\n",
              "      <td>0</td>\n",
              "      <td>98136</td>\n",
              "      <td>47.5208</td>\n",
              "      <td>-122.393</td>\n",
              "    </tr>\n",
              "    <tr>\n",
              "      <th>8</th>\n",
              "      <td>2015-04-15</td>\n",
              "      <td>229500</td>\n",
              "      <td>3</td>\n",
              "      <td>1.00</td>\n",
              "      <td>164</td>\n",
              "      <td>687</td>\n",
              "      <td>1.0</td>\n",
              "      <td>0</td>\n",
              "      <td>3</td>\n",
              "      <td>7</td>\n",
              "      <td>67</td>\n",
              "      <td>1960</td>\n",
              "      <td>0</td>\n",
              "      <td>98146</td>\n",
              "      <td>47.5123</td>\n",
              "      <td>-122.337</td>\n",
              "    </tr>\n",
              "    <tr>\n",
              "      <th>11</th>\n",
              "      <td>2014-05-27</td>\n",
              "      <td>468000</td>\n",
              "      <td>2</td>\n",
              "      <td>1.00</td>\n",
              "      <td>107</td>\n",
              "      <td>552</td>\n",
              "      <td>1.0</td>\n",
              "      <td>0</td>\n",
              "      <td>4</td>\n",
              "      <td>7</td>\n",
              "      <td>28</td>\n",
              "      <td>1942</td>\n",
              "      <td>0</td>\n",
              "      <td>98115</td>\n",
              "      <td>47.6900</td>\n",
              "      <td>-122.292</td>\n",
              "    </tr>\n",
              "  </tbody>\n",
              "</table>\n",
              "</div>"
            ],
            "text/plain": [
              "         date   price  bedrooms  ...    zip      lat     long\n",
              "0  2014-10-13  221900         3  ...  98178  47.5112 -122.257\n",
              "1  2014-12-09  538000         3  ...  98125  47.7210 -122.319\n",
              "3  2014-12-09  604000         4  ...  98136  47.5208 -122.393\n",
              "8  2015-04-15  229500         3  ...  98146  47.5123 -122.337\n",
              "11 2014-05-27  468000         2  ...  98115  47.6900 -122.292\n",
              "\n",
              "[5 rows x 16 columns]"
            ]
          },
          "metadata": {
            "tags": []
          },
          "execution_count": 9
        }
      ]
    },
    {
      "cell_type": "markdown",
      "metadata": {
        "id": "Qba0bEp5hynP"
      },
      "source": [
        "Iar cel de al doilea, arata astfel:\r\n"
      ]
    },
    {
      "cell_type": "code",
      "metadata": {
        "colab": {
          "base_uri": "https://localhost:8080/",
          "height": 204
        },
        "id": "31oIFbAIh19x",
        "outputId": "69606d31-6559-4ed1-c7be-e75e1acf972e"
      },
      "source": [
        "property_data.head()"
      ],
      "execution_count": 10,
      "outputs": [
        {
          "output_type": "execute_result",
          "data": {
            "text/html": [
              "<div>\n",
              "<style scoped>\n",
              "    .dataframe tbody tr th:only-of-type {\n",
              "        vertical-align: middle;\n",
              "    }\n",
              "\n",
              "    .dataframe tbody tr th {\n",
              "        vertical-align: top;\n",
              "    }\n",
              "\n",
              "    .dataframe thead th {\n",
              "        text-align: right;\n",
              "    }\n",
              "</style>\n",
              "<table border=\"1\" class=\"dataframe\">\n",
              "  <thead>\n",
              "    <tr style=\"text-align: right;\">\n",
              "      <th></th>\n",
              "      <th>property_type</th>\n",
              "      <th>zip</th>\n",
              "      <th>neighborhood</th>\n",
              "      <th>latitude</th>\n",
              "      <th>longitude</th>\n",
              "    </tr>\n",
              "  </thead>\n",
              "  <tbody>\n",
              "    <tr>\n",
              "      <th>22</th>\n",
              "      <td>K-12 School</td>\n",
              "      <td>98118</td>\n",
              "      <td>SOUTHEAST</td>\n",
              "      <td>47.545701</td>\n",
              "      <td>-122.268584</td>\n",
              "    </tr>\n",
              "    <tr>\n",
              "      <th>28</th>\n",
              "      <td>K-12 School</td>\n",
              "      <td>98112</td>\n",
              "      <td>SHARED: CENTRAL &amp; EAST</td>\n",
              "      <td>47.623094</td>\n",
              "      <td>-122.305389</td>\n",
              "    </tr>\n",
              "    <tr>\n",
              "      <th>30</th>\n",
              "      <td>K-12 School</td>\n",
              "      <td>98125</td>\n",
              "      <td>NORTH</td>\n",
              "      <td>47.710115</td>\n",
              "      <td>-122.293792</td>\n",
              "    </tr>\n",
              "    <tr>\n",
              "      <th>31</th>\n",
              "      <td>K-12 School</td>\n",
              "      <td>98109</td>\n",
              "      <td>MAGNOLIA / QUEEN ANNE</td>\n",
              "      <td>47.633032</td>\n",
              "      <td>-122.352457</td>\n",
              "    </tr>\n",
              "    <tr>\n",
              "      <th>32</th>\n",
              "      <td>Office</td>\n",
              "      <td>98103</td>\n",
              "      <td>LAKE UNION</td>\n",
              "      <td>47.663916</td>\n",
              "      <td>-122.331722</td>\n",
              "    </tr>\n",
              "  </tbody>\n",
              "</table>\n",
              "</div>"
            ],
            "text/plain": [
              "   property_type    zip            neighborhood   latitude   longitude\n",
              "22   K-12 School  98118               SOUTHEAST  47.545701 -122.268584\n",
              "28   K-12 School  98112  SHARED: CENTRAL & EAST  47.623094 -122.305389\n",
              "30   K-12 School  98125                   NORTH  47.710115 -122.293792\n",
              "31   K-12 School  98109   MAGNOLIA / QUEEN ANNE  47.633032 -122.352457\n",
              "32        Office  98103              LAKE UNION  47.663916 -122.331722"
            ]
          },
          "metadata": {
            "tags": []
          },
          "execution_count": 10
        }
      ]
    },
    {
      "cell_type": "markdown",
      "metadata": {
        "id": "7ZHqMgNlU0Ts"
      },
      "source": [
        "## 2. Generarea campurilor de interes"
      ]
    },
    {
      "cell_type": "markdown",
      "metadata": {
        "id": "oGd0dhvAYzHG"
      },
      "source": [
        ""
      ]
    },
    {
      "cell_type": "markdown",
      "metadata": {
        "id": "k5n9WBbQVPEY"
      },
      "source": [
        "## 3. Formularea ipotezelor"
      ]
    },
    {
      "cell_type": "markdown",
      "metadata": {
        "id": "rB7RlPrRYz3k"
      },
      "source": [
        ""
      ]
    },
    {
      "cell_type": "markdown",
      "metadata": {
        "id": "ou0lkeKtVXlQ"
      },
      "source": [
        "## 4. Analiza datelor"
      ]
    },
    {
      "cell_type": "markdown",
      "metadata": {
        "id": "lCKBXxJBY0oT"
      },
      "source": [
        ""
      ]
    },
    {
      "cell_type": "markdown",
      "metadata": {
        "id": "Z4jpDw-bVayJ"
      },
      "source": [
        "## 5. Concluzii, respectiv validarea/invalidarea ipotezelor"
      ]
    },
    {
      "cell_type": "markdown",
      "metadata": {
        "id": "bTsJDD3dY1e7"
      },
      "source": [
        ""
      ]
    }
  ]
}