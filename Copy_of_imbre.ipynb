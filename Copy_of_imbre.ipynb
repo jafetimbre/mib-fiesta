{
  "nbformat": 4,
  "nbformat_minor": 0,
  "metadata": {
    "language_info": {
      "codemirror_mode": {
        "name": "ipython",
        "version": 3
      },
      "file_extension": ".py",
      "mimetype": "text/x-python",
      "name": "python",
      "nbconvert_exporter": "python",
      "pygments_lexer": "ipython3",
      "version": "3.8.6-final"
    },
    "orig_nbformat": 2,
    "kernelspec": {
      "name": "python3",
      "display_name": "Python 3.8.6 64-bit",
      "metadata": {
        "interpreter": {
          "hash": "122b684e0147009c315d6711cdbb4bc67c0b28d0ba10cdfcd148f2449410c391"
        }
      }
    },
    "colab": {
      "name": "Copy of imbre.ipynb",
      "provenance": [],
      "include_colab_link": true
    }
  },
  "cells": [
    {
      "cell_type": "markdown",
      "metadata": {
        "id": "view-in-github",
        "colab_type": "text"
      },
      "source": [
        "<a href=\"https://colab.research.google.com/github/jafetimbre/mib-fiesta/blob/master/Copy_of_imbre.ipynb\" target=\"_parent\"><img src=\"https://colab.research.google.com/assets/colab-badge.svg\" alt=\"Open In Colab\"/></a>"
      ]
    },
    {
      "cell_type": "code",
      "metadata": {
        "id": "S2lSQkdDmZZp"
      },
      "source": [
        "import pandas as pd\r\n",
        "import numpy as np\r\n",
        "import matplotlib.pyplot as plt\r\n",
        "import seaborn as sns"
      ],
      "execution_count": 2,
      "outputs": []
    },
    {
      "cell_type": "markdown",
      "metadata": {
        "id": "pYxk7dfu_Wf3"
      },
      "source": [
        "# Curatarea seturilor de date\r\n",
        "\r\n"
      ]
    },
    {
      "cell_type": "markdown",
      "metadata": {
        "id": "LPxEeyEDAr1I"
      },
      "source": [
        "### Incarcarea seturilor de date\r\n",
        "Datasetul principal ales contine preturile caselor vandute in intervalul Mai-2014 si Mai- 2015 in orasul Seattle.\r\n",
        "Atributele:\r\n",
        "<ul>\r\n",
        "<li><strong>price</strong>-pretul cu care a fost vanduta locuinta</li>\r\n",
        "<li><strong>bedrooms</strong>- numarul dormitoarelor</li>\r\n",
        "<li><strong>bathrooms</strong>-numarul de bai/dormitoare</li>\r\n",
        "<li><strong>sqft_living</strong>-suprafata utila locuibila</li>\r\n",
        "<li><strong>sqft_lot</strong>intreaga suprafata</li>\r\n",
        "<li><strong>floors-</strong>numarul etajelor</li>\r\n",
        "<li><strong>waterfront-</strong>locuinta pe malul unei ape</li>\r\n",
        "<li><strong>condition-</strong>gradul de confort per total</li>\r\n",
        "<li><strong>grade-</strong>nota locuintel dupa standardul Seattle</li>\r\n",
        "<li><strong>yr_built-</strong>Anul construirii</li>\r\n",
        "<li><strong>yr_renovated-</strong>Anul renovarii</li>\r\n",
        "<li><strong>zipcode-</strong>Codul postal</li>\r\n",
        "<li><strong>lat-</strong>Latitudinea</li>\r\n",
        "<li><strong>long-</strong>Longitudinea</li>\r\n",
        "</ul>\r\n",
        "\r\n",
        "Pastrarea campurilor relevante si inlaturarea celor irelevante."
      ]
    },
    {
      "cell_type": "code",
      "metadata": {
        "id": "4uIcl3Demdf-",
        "colab": {
          "base_uri": "https://localhost:8080/",
          "height": 195
        },
        "outputId": "a86e9e26-f72e-4cea-a067-f61d1c3e9a08"
      },
      "source": [
        "housing_columns = [ 'price', 'bedrooms', 'bathrooms', 'sqft_living', 'sqft_lot', 'floors', 'waterfront', 'condition', 'grade', 'sqft_basement', 'yr_built', 'yr_renovated' ,'zipcode', 'lat', 'long' ]\r\n",
        "housing_data = pd.read_csv('https://raw.githubusercontent.com/jafetimbre/mib-fiesta/master/data/housing.csv', usecols=housing_columns)\r\n",
        "housing_data.head()"
      ],
      "execution_count": 3,
      "outputs": [
        {
          "output_type": "execute_result",
          "data": {
            "text/html": [
              "<div>\n",
              "<style scoped>\n",
              "    .dataframe tbody tr th:only-of-type {\n",
              "        vertical-align: middle;\n",
              "    }\n",
              "\n",
              "    .dataframe tbody tr th {\n",
              "        vertical-align: top;\n",
              "    }\n",
              "\n",
              "    .dataframe thead th {\n",
              "        text-align: right;\n",
              "    }\n",
              "</style>\n",
              "<table border=\"1\" class=\"dataframe\">\n",
              "  <thead>\n",
              "    <tr style=\"text-align: right;\">\n",
              "      <th></th>\n",
              "      <th>price</th>\n",
              "      <th>bedrooms</th>\n",
              "      <th>bathrooms</th>\n",
              "      <th>sqft_living</th>\n",
              "      <th>sqft_lot</th>\n",
              "      <th>floors</th>\n",
              "      <th>waterfront</th>\n",
              "      <th>condition</th>\n",
              "      <th>grade</th>\n",
              "      <th>sqft_basement</th>\n",
              "      <th>yr_built</th>\n",
              "      <th>yr_renovated</th>\n",
              "      <th>zipcode</th>\n",
              "      <th>lat</th>\n",
              "      <th>long</th>\n",
              "    </tr>\n",
              "  </thead>\n",
              "  <tbody>\n",
              "    <tr>\n",
              "      <th>0</th>\n",
              "      <td>221900</td>\n",
              "      <td>3</td>\n",
              "      <td>1.00</td>\n",
              "      <td>1180</td>\n",
              "      <td>5650</td>\n",
              "      <td>1.0</td>\n",
              "      <td>0</td>\n",
              "      <td>3</td>\n",
              "      <td>7</td>\n",
              "      <td>0</td>\n",
              "      <td>1955</td>\n",
              "      <td>0</td>\n",
              "      <td>98178</td>\n",
              "      <td>47.5112</td>\n",
              "      <td>-122.257</td>\n",
              "    </tr>\n",
              "    <tr>\n",
              "      <th>1</th>\n",
              "      <td>538000</td>\n",
              "      <td>3</td>\n",
              "      <td>2.25</td>\n",
              "      <td>2570</td>\n",
              "      <td>7242</td>\n",
              "      <td>2.0</td>\n",
              "      <td>0</td>\n",
              "      <td>3</td>\n",
              "      <td>7</td>\n",
              "      <td>400</td>\n",
              "      <td>1951</td>\n",
              "      <td>1991</td>\n",
              "      <td>98125</td>\n",
              "      <td>47.7210</td>\n",
              "      <td>-122.319</td>\n",
              "    </tr>\n",
              "    <tr>\n",
              "      <th>2</th>\n",
              "      <td>180000</td>\n",
              "      <td>2</td>\n",
              "      <td>1.00</td>\n",
              "      <td>770</td>\n",
              "      <td>10000</td>\n",
              "      <td>1.0</td>\n",
              "      <td>0</td>\n",
              "      <td>3</td>\n",
              "      <td>6</td>\n",
              "      <td>0</td>\n",
              "      <td>1933</td>\n",
              "      <td>0</td>\n",
              "      <td>98028</td>\n",
              "      <td>47.7379</td>\n",
              "      <td>-122.233</td>\n",
              "    </tr>\n",
              "    <tr>\n",
              "      <th>3</th>\n",
              "      <td>604000</td>\n",
              "      <td>4</td>\n",
              "      <td>3.00</td>\n",
              "      <td>1960</td>\n",
              "      <td>5000</td>\n",
              "      <td>1.0</td>\n",
              "      <td>0</td>\n",
              "      <td>5</td>\n",
              "      <td>7</td>\n",
              "      <td>910</td>\n",
              "      <td>1965</td>\n",
              "      <td>0</td>\n",
              "      <td>98136</td>\n",
              "      <td>47.5208</td>\n",
              "      <td>-122.393</td>\n",
              "    </tr>\n",
              "    <tr>\n",
              "      <th>4</th>\n",
              "      <td>510000</td>\n",
              "      <td>3</td>\n",
              "      <td>2.00</td>\n",
              "      <td>1680</td>\n",
              "      <td>8080</td>\n",
              "      <td>1.0</td>\n",
              "      <td>0</td>\n",
              "      <td>3</td>\n",
              "      <td>8</td>\n",
              "      <td>0</td>\n",
              "      <td>1987</td>\n",
              "      <td>0</td>\n",
              "      <td>98074</td>\n",
              "      <td>47.6168</td>\n",
              "      <td>-122.045</td>\n",
              "    </tr>\n",
              "  </tbody>\n",
              "</table>\n",
              "</div>"
            ],
            "text/plain": [
              "    price  bedrooms  bathrooms  ...  zipcode      lat     long\n",
              "0  221900         3       1.00  ...    98178  47.5112 -122.257\n",
              "1  538000         3       2.25  ...    98125  47.7210 -122.319\n",
              "2  180000         2       1.00  ...    98028  47.7379 -122.233\n",
              "3  604000         4       3.00  ...    98136  47.5208 -122.393\n",
              "4  510000         3       2.00  ...    98074  47.6168 -122.045\n",
              "\n",
              "[5 rows x 15 columns]"
            ]
          },
          "metadata": {
            "tags": []
          },
          "execution_count": 3
        }
      ]
    },
    {
      "cell_type": "markdown",
      "metadata": {
        "id": "Pq4bhNhgBt5w"
      },
      "source": [
        "Al doilea set de date ales este un set ajutator, care contine anumite cladiri relevante din imprejurimile caselor primului dataset.\r\n",
        "<ul>\r\n",
        "<li><strong>BuildingTypeName-</strong>Tipul Cladirii</li>\r\n",
        "<li><strong>PropertyTypeEPA-</strong>Propietatea (spital,restaurant,gradinita)</li>\r\n",
        "<li><strong>City-</strong>Orasul</li>\r\n",
        "<li><strong>Zip-</strong>Cod postal</li>\r\n",
        "<li><strong>Neighborhood-</strong>Cartierul</li>\r\n",
        "<li><strong>Longitude-</strong>Longitudinea</li>\r\n",
        "<li><strong>Latitude-</strong>Latitudinea</li></ul>"
      ]
    },
    {
      "cell_type": "code",
      "metadata": {
        "id": "V8SBGw3lmlvc",
        "colab": {
          "base_uri": "https://localhost:8080/",
          "height": 195
        },
        "outputId": "ec06ac33-a09d-4f91-ca28-594994b8ab53"
      },
      "source": [
        "property_columns = [ 'BuildingTypeName', 'PropertyTypeEPA', 'City', 'Zip', 'Neighborhood', 'Latitude', 'Longitude' ]\r\n",
        "property_data = pd.read_csv('https://raw.githubusercontent.com/jafetimbre/mib-fiesta/master/data/property_types.csv', usecols=property_columns)\r\n",
        "property_data.head()"
      ],
      "execution_count": 4,
      "outputs": [
        {
          "output_type": "execute_result",
          "data": {
            "text/html": [
              "<div>\n",
              "<style scoped>\n",
              "    .dataframe tbody tr th:only-of-type {\n",
              "        vertical-align: middle;\n",
              "    }\n",
              "\n",
              "    .dataframe tbody tr th {\n",
              "        vertical-align: top;\n",
              "    }\n",
              "\n",
              "    .dataframe thead th {\n",
              "        text-align: right;\n",
              "    }\n",
              "</style>\n",
              "<table border=\"1\" class=\"dataframe\">\n",
              "  <thead>\n",
              "    <tr style=\"text-align: right;\">\n",
              "      <th></th>\n",
              "      <th>BuildingTypeName</th>\n",
              "      <th>PropertyTypeEPA</th>\n",
              "      <th>City</th>\n",
              "      <th>Zip</th>\n",
              "      <th>Neighborhood</th>\n",
              "      <th>Latitude</th>\n",
              "      <th>Longitude</th>\n",
              "    </tr>\n",
              "  </thead>\n",
              "  <tbody>\n",
              "    <tr>\n",
              "      <th>0</th>\n",
              "      <td>NonResidential</td>\n",
              "      <td>Hotel</td>\n",
              "      <td>SEATTLE</td>\n",
              "      <td>98101</td>\n",
              "      <td>DOWNTOWN</td>\n",
              "      <td>47.612190</td>\n",
              "      <td>-122.337997</td>\n",
              "    </tr>\n",
              "    <tr>\n",
              "      <th>1</th>\n",
              "      <td>NonResidential</td>\n",
              "      <td>Hotel</td>\n",
              "      <td>SEATTLE</td>\n",
              "      <td>98101</td>\n",
              "      <td>DOWNTOWN</td>\n",
              "      <td>47.613106</td>\n",
              "      <td>-122.333358</td>\n",
              "    </tr>\n",
              "    <tr>\n",
              "      <th>2</th>\n",
              "      <td>NonResidential</td>\n",
              "      <td>Hotel</td>\n",
              "      <td>SEATTLE</td>\n",
              "      <td>98101</td>\n",
              "      <td>DOWNTOWN</td>\n",
              "      <td>47.613349</td>\n",
              "      <td>-122.337699</td>\n",
              "    </tr>\n",
              "    <tr>\n",
              "      <th>3</th>\n",
              "      <td>NonResidential</td>\n",
              "      <td>Hotel</td>\n",
              "      <td>SEATTLE</td>\n",
              "      <td>98101</td>\n",
              "      <td>DOWNTOWN</td>\n",
              "      <td>47.614216</td>\n",
              "      <td>-122.336609</td>\n",
              "    </tr>\n",
              "    <tr>\n",
              "      <th>4</th>\n",
              "      <td>NonResidential</td>\n",
              "      <td>Hotel</td>\n",
              "      <td>SEATTLE</td>\n",
              "      <td>98121</td>\n",
              "      <td>DOWNTOWN</td>\n",
              "      <td>47.613754</td>\n",
              "      <td>-122.340924</td>\n",
              "    </tr>\n",
              "  </tbody>\n",
              "</table>\n",
              "</div>"
            ],
            "text/plain": [
              "  BuildingTypeName PropertyTypeEPA     City  ...  Neighborhood   Latitude   Longitude\n",
              "0   NonResidential           Hotel  SEATTLE  ...      DOWNTOWN  47.612190 -122.337997\n",
              "1   NonResidential           Hotel  SEATTLE  ...      DOWNTOWN  47.613106 -122.333358\n",
              "2   NonResidential           Hotel  SEATTLE  ...      DOWNTOWN  47.613349 -122.337699\n",
              "3   NonResidential           Hotel  SEATTLE  ...      DOWNTOWN  47.614216 -122.336609\n",
              "4   NonResidential           Hotel  SEATTLE  ...      DOWNTOWN  47.613754 -122.340924\n",
              "\n",
              "[5 rows x 7 columns]"
            ]
          },
          "metadata": {
            "tags": []
          },
          "execution_count": 4
        }
      ]
    },
    {
      "cell_type": "markdown",
      "metadata": {
        "id": "XPLP2hV8Bu9F"
      },
      "source": [
        ""
      ]
    },
    {
      "cell_type": "markdown",
      "metadata": {
        "id": "Jh8tck-tBBZZ"
      },
      "source": [
        "## General\r\n",
        "Construirea unei liste de coduri postale comune"
      ]
    },
    {
      "cell_type": "code",
      "metadata": {
        "id": "MzYV_4wA03pL",
        "colab": {
          "base_uri": "https://localhost:8080/"
        },
        "outputId": "1114f26a-2176-40f6-cf9f-c742a9e241c8"
      },
      "source": [
        "zip_property_data = property_data.Zip.unique()\r\n",
        "zip_housing_data = housing_data.zipcode.unique()\r\n",
        "zip_comon = list(set(zip_property_data).intersection(zip_housing_data))\r\n",
        "print(zip_comon)"
      ],
      "execution_count": 5,
      "outputs": [
        {
          "output_type": "stream",
          "text": [
            "[98177, 98178, 98199, 98102, 98103, 98105, 98106, 98107, 98108, 98109, 98112, 98115, 98116, 98117, 98118, 98119, 98122, 98125, 98126, 98133, 98136, 98144, 98146, 98155]\n"
          ],
          "name": "stdout"
        }
      ]
    },
    {
      "cell_type": "markdown",
      "metadata": {
        "id": "vT_FmdeSBv3K"
      },
      "source": [
        ""
      ]
    },
    {
      "cell_type": "markdown",
      "metadata": {
        "id": "pi3JDE4ABGvF"
      },
      "source": [
        "## Procesarea primului set"
      ]
    },
    {
      "cell_type": "code",
      "metadata": {
        "id": "kTckVBXcBTOE",
        "colab": {
          "base_uri": "https://localhost:8080/",
          "height": 195
        },
        "outputId": "2579c314-6e44-4799-8282-9ec2f349f2c1"
      },
      "source": [
        "property_data.head()"
      ],
      "execution_count": 6,
      "outputs": [
        {
          "output_type": "execute_result",
          "data": {
            "text/html": [
              "<div>\n",
              "<style scoped>\n",
              "    .dataframe tbody tr th:only-of-type {\n",
              "        vertical-align: middle;\n",
              "    }\n",
              "\n",
              "    .dataframe tbody tr th {\n",
              "        vertical-align: top;\n",
              "    }\n",
              "\n",
              "    .dataframe thead th {\n",
              "        text-align: right;\n",
              "    }\n",
              "</style>\n",
              "<table border=\"1\" class=\"dataframe\">\n",
              "  <thead>\n",
              "    <tr style=\"text-align: right;\">\n",
              "      <th></th>\n",
              "      <th>BuildingTypeName</th>\n",
              "      <th>PropertyTypeEPA</th>\n",
              "      <th>City</th>\n",
              "      <th>Zip</th>\n",
              "      <th>Neighborhood</th>\n",
              "      <th>Latitude</th>\n",
              "      <th>Longitude</th>\n",
              "    </tr>\n",
              "  </thead>\n",
              "  <tbody>\n",
              "    <tr>\n",
              "      <th>0</th>\n",
              "      <td>NonResidential</td>\n",
              "      <td>Hotel</td>\n",
              "      <td>SEATTLE</td>\n",
              "      <td>98101</td>\n",
              "      <td>DOWNTOWN</td>\n",
              "      <td>47.612190</td>\n",
              "      <td>-122.337997</td>\n",
              "    </tr>\n",
              "    <tr>\n",
              "      <th>1</th>\n",
              "      <td>NonResidential</td>\n",
              "      <td>Hotel</td>\n",
              "      <td>SEATTLE</td>\n",
              "      <td>98101</td>\n",
              "      <td>DOWNTOWN</td>\n",
              "      <td>47.613106</td>\n",
              "      <td>-122.333358</td>\n",
              "    </tr>\n",
              "    <tr>\n",
              "      <th>2</th>\n",
              "      <td>NonResidential</td>\n",
              "      <td>Hotel</td>\n",
              "      <td>SEATTLE</td>\n",
              "      <td>98101</td>\n",
              "      <td>DOWNTOWN</td>\n",
              "      <td>47.613349</td>\n",
              "      <td>-122.337699</td>\n",
              "    </tr>\n",
              "    <tr>\n",
              "      <th>3</th>\n",
              "      <td>NonResidential</td>\n",
              "      <td>Hotel</td>\n",
              "      <td>SEATTLE</td>\n",
              "      <td>98101</td>\n",
              "      <td>DOWNTOWN</td>\n",
              "      <td>47.614216</td>\n",
              "      <td>-122.336609</td>\n",
              "    </tr>\n",
              "    <tr>\n",
              "      <th>4</th>\n",
              "      <td>NonResidential</td>\n",
              "      <td>Hotel</td>\n",
              "      <td>SEATTLE</td>\n",
              "      <td>98121</td>\n",
              "      <td>DOWNTOWN</td>\n",
              "      <td>47.613754</td>\n",
              "      <td>-122.340924</td>\n",
              "    </tr>\n",
              "  </tbody>\n",
              "</table>\n",
              "</div>"
            ],
            "text/plain": [
              "  BuildingTypeName PropertyTypeEPA     City  ...  Neighborhood   Latitude   Longitude\n",
              "0   NonResidential           Hotel  SEATTLE  ...      DOWNTOWN  47.612190 -122.337997\n",
              "1   NonResidential           Hotel  SEATTLE  ...      DOWNTOWN  47.613106 -122.333358\n",
              "2   NonResidential           Hotel  SEATTLE  ...      DOWNTOWN  47.613349 -122.337699\n",
              "3   NonResidential           Hotel  SEATTLE  ...      DOWNTOWN  47.614216 -122.336609\n",
              "4   NonResidential           Hotel  SEATTLE  ...      DOWNTOWN  47.613754 -122.340924\n",
              "\n",
              "[5 rows x 7 columns]"
            ]
          },
          "metadata": {
            "tags": []
          },
          "execution_count": 6
        }
      ]
    },
    {
      "cell_type": "markdown",
      "metadata": {
        "id": "BH7iaKp9NHi-"
      },
      "source": [
        "Eliminarearea randurilor nerelevante"
      ]
    },
    {
      "cell_type": "code",
      "metadata": {
        "id": "ByKZBwHO3Q4f"
      },
      "source": [
        "property_data = property_data[property_data.BuildingTypeName.map(lambda e: e in ['NonResidential', 'Nonresidential COS', 'SPS-District K-12', 'Campus'])]\r\n",
        "property_data = property_data[property_data.City.map(lambda e: e == 'SEATTLE')]\r\n",
        "property_data = property_data[property_data.Zip.map(lambda e: e in zip_comon)]\r\n",
        "property_data = property_data[property_data.PropertyTypeEPA.map(lambda e: e != 'Hotel')]\r\n",
        "\r\n",
        "property_data = property_data.drop(['BuildingTypeName', 'City'], axis=1)\r\n",
        "property_data = property_data.rename(columns={'PropertyTypeEPA': 'property_type', 'Zip': 'zip', 'Neighborhood':'neighborhood', 'Latitude': 'latitude', 'Longitude':'longitude'})\r\n",
        "\r\n",
        "property_data.dropna(inplace=True)\r\n",
        "property_data.reset_index(drop=True)\r\n",
        "\r\n",
        "property_data.head()\r\n",
        "\r\n",
        "property_data.to_csv('property_data_cleaned.csv', index = False, header=True)"
      ],
      "execution_count": 7,
      "outputs": []
    },
    {
      "cell_type": "markdown",
      "metadata": {
        "id": "YHQGFxp_BYlM"
      },
      "source": [
        "## Procesarea setului 2"
      ]
    },
    {
      "cell_type": "code",
      "metadata": {
        "id": "4ESPjt0cBigT",
        "colab": {
          "base_uri": "https://localhost:8080/",
          "height": 195
        },
        "outputId": "99925ac6-a50e-4110-e056-b3f661f2ed8d"
      },
      "source": [
        "housing_data.head()"
      ],
      "execution_count": 8,
      "outputs": [
        {
          "output_type": "execute_result",
          "data": {
            "text/html": [
              "<div>\n",
              "<style scoped>\n",
              "    .dataframe tbody tr th:only-of-type {\n",
              "        vertical-align: middle;\n",
              "    }\n",
              "\n",
              "    .dataframe tbody tr th {\n",
              "        vertical-align: top;\n",
              "    }\n",
              "\n",
              "    .dataframe thead th {\n",
              "        text-align: right;\n",
              "    }\n",
              "</style>\n",
              "<table border=\"1\" class=\"dataframe\">\n",
              "  <thead>\n",
              "    <tr style=\"text-align: right;\">\n",
              "      <th></th>\n",
              "      <th>price</th>\n",
              "      <th>bedrooms</th>\n",
              "      <th>bathrooms</th>\n",
              "      <th>sqft_living</th>\n",
              "      <th>sqft_lot</th>\n",
              "      <th>floors</th>\n",
              "      <th>waterfront</th>\n",
              "      <th>condition</th>\n",
              "      <th>grade</th>\n",
              "      <th>sqft_basement</th>\n",
              "      <th>yr_built</th>\n",
              "      <th>yr_renovated</th>\n",
              "      <th>zipcode</th>\n",
              "      <th>lat</th>\n",
              "      <th>long</th>\n",
              "    </tr>\n",
              "  </thead>\n",
              "  <tbody>\n",
              "    <tr>\n",
              "      <th>0</th>\n",
              "      <td>221900</td>\n",
              "      <td>3</td>\n",
              "      <td>1.00</td>\n",
              "      <td>1180</td>\n",
              "      <td>5650</td>\n",
              "      <td>1.0</td>\n",
              "      <td>0</td>\n",
              "      <td>3</td>\n",
              "      <td>7</td>\n",
              "      <td>0</td>\n",
              "      <td>1955</td>\n",
              "      <td>0</td>\n",
              "      <td>98178</td>\n",
              "      <td>47.5112</td>\n",
              "      <td>-122.257</td>\n",
              "    </tr>\n",
              "    <tr>\n",
              "      <th>1</th>\n",
              "      <td>538000</td>\n",
              "      <td>3</td>\n",
              "      <td>2.25</td>\n",
              "      <td>2570</td>\n",
              "      <td>7242</td>\n",
              "      <td>2.0</td>\n",
              "      <td>0</td>\n",
              "      <td>3</td>\n",
              "      <td>7</td>\n",
              "      <td>400</td>\n",
              "      <td>1951</td>\n",
              "      <td>1991</td>\n",
              "      <td>98125</td>\n",
              "      <td>47.7210</td>\n",
              "      <td>-122.319</td>\n",
              "    </tr>\n",
              "    <tr>\n",
              "      <th>2</th>\n",
              "      <td>180000</td>\n",
              "      <td>2</td>\n",
              "      <td>1.00</td>\n",
              "      <td>770</td>\n",
              "      <td>10000</td>\n",
              "      <td>1.0</td>\n",
              "      <td>0</td>\n",
              "      <td>3</td>\n",
              "      <td>6</td>\n",
              "      <td>0</td>\n",
              "      <td>1933</td>\n",
              "      <td>0</td>\n",
              "      <td>98028</td>\n",
              "      <td>47.7379</td>\n",
              "      <td>-122.233</td>\n",
              "    </tr>\n",
              "    <tr>\n",
              "      <th>3</th>\n",
              "      <td>604000</td>\n",
              "      <td>4</td>\n",
              "      <td>3.00</td>\n",
              "      <td>1960</td>\n",
              "      <td>5000</td>\n",
              "      <td>1.0</td>\n",
              "      <td>0</td>\n",
              "      <td>5</td>\n",
              "      <td>7</td>\n",
              "      <td>910</td>\n",
              "      <td>1965</td>\n",
              "      <td>0</td>\n",
              "      <td>98136</td>\n",
              "      <td>47.5208</td>\n",
              "      <td>-122.393</td>\n",
              "    </tr>\n",
              "    <tr>\n",
              "      <th>4</th>\n",
              "      <td>510000</td>\n",
              "      <td>3</td>\n",
              "      <td>2.00</td>\n",
              "      <td>1680</td>\n",
              "      <td>8080</td>\n",
              "      <td>1.0</td>\n",
              "      <td>0</td>\n",
              "      <td>3</td>\n",
              "      <td>8</td>\n",
              "      <td>0</td>\n",
              "      <td>1987</td>\n",
              "      <td>0</td>\n",
              "      <td>98074</td>\n",
              "      <td>47.6168</td>\n",
              "      <td>-122.045</td>\n",
              "    </tr>\n",
              "  </tbody>\n",
              "</table>\n",
              "</div>"
            ],
            "text/plain": [
              "    price  bedrooms  bathrooms  ...  zipcode      lat     long\n",
              "0  221900         3       1.00  ...    98178  47.5112 -122.257\n",
              "1  538000         3       2.25  ...    98125  47.7210 -122.319\n",
              "2  180000         2       1.00  ...    98028  47.7379 -122.233\n",
              "3  604000         4       3.00  ...    98136  47.5208 -122.393\n",
              "4  510000         3       2.00  ...    98074  47.6168 -122.045\n",
              "\n",
              "[5 rows x 15 columns]"
            ]
          },
          "metadata": {
            "tags": []
          },
          "execution_count": 8
        }
      ]
    },
    {
      "cell_type": "markdown",
      "metadata": {
        "id": "Sd30PWfkNaoI"
      },
      "source": [
        ""
      ]
    },
    {
      "cell_type": "code",
      "metadata": {
        "id": "64Nie_BP8cYv"
      },
      "source": [
        "housing_data.sqft_living = housing_data.sqft_living.apply(lambda e: round(e * 0.092))\r\n",
        "housing_data.sqft_lot = housing_data.sqft_lot.apply(lambda e: round(e * 0.092))\r\n",
        "housing_data.sqft_basement = housing_data.sqft_basement.apply(lambda e: round(e * 0.092))\r\n",
        "\r\n",
        "housing_data = housing_data[housing_data.zipcode.map(lambda e: e in zip_comon)]\r\n",
        "\r\n",
        "housing_data = housing_data.rename(columns={'sqft_living': 'm2_living', 'sqft_lot':'m2_lot', 'sqft_basement':'m2_basement', 'zipcode':'zip'})\r\n",
        "\r\n",
        "housing_data.dropna(inplace=True)\r\n",
        "housing_data.reset_index(drop=True)\r\n",
        "\r\n",
        "housing_data.head()\r\n",
        "\r\n",
        "housing_data.to_csv('housing_data_cleaned.csv', index = False, header=True)"
      ],
      "execution_count": 9,
      "outputs": []
    },
    {
      "cell_type": "code",
      "metadata": {
        "colab": {
          "base_uri": "https://localhost:8080/",
          "height": 195
        },
        "id": "wmkGnJATk_Zz",
        "outputId": "7b1b48e4-c10b-4351-facf-9a91aa354338"
      },
      "source": [
        "housing_data.head()"
      ],
      "execution_count": 10,
      "outputs": [
        {
          "output_type": "execute_result",
          "data": {
            "text/html": [
              "<div>\n",
              "<style scoped>\n",
              "    .dataframe tbody tr th:only-of-type {\n",
              "        vertical-align: middle;\n",
              "    }\n",
              "\n",
              "    .dataframe tbody tr th {\n",
              "        vertical-align: top;\n",
              "    }\n",
              "\n",
              "    .dataframe thead th {\n",
              "        text-align: right;\n",
              "    }\n",
              "</style>\n",
              "<table border=\"1\" class=\"dataframe\">\n",
              "  <thead>\n",
              "    <tr style=\"text-align: right;\">\n",
              "      <th></th>\n",
              "      <th>price</th>\n",
              "      <th>bedrooms</th>\n",
              "      <th>bathrooms</th>\n",
              "      <th>m2_living</th>\n",
              "      <th>m2_lot</th>\n",
              "      <th>floors</th>\n",
              "      <th>waterfront</th>\n",
              "      <th>condition</th>\n",
              "      <th>grade</th>\n",
              "      <th>m2_basement</th>\n",
              "      <th>yr_built</th>\n",
              "      <th>yr_renovated</th>\n",
              "      <th>zip</th>\n",
              "      <th>lat</th>\n",
              "      <th>long</th>\n",
              "    </tr>\n",
              "  </thead>\n",
              "  <tbody>\n",
              "    <tr>\n",
              "      <th>0</th>\n",
              "      <td>221900</td>\n",
              "      <td>3</td>\n",
              "      <td>1.00</td>\n",
              "      <td>109</td>\n",
              "      <td>520</td>\n",
              "      <td>1.0</td>\n",
              "      <td>0</td>\n",
              "      <td>3</td>\n",
              "      <td>7</td>\n",
              "      <td>0</td>\n",
              "      <td>1955</td>\n",
              "      <td>0</td>\n",
              "      <td>98178</td>\n",
              "      <td>47.5112</td>\n",
              "      <td>-122.257</td>\n",
              "    </tr>\n",
              "    <tr>\n",
              "      <th>1</th>\n",
              "      <td>538000</td>\n",
              "      <td>3</td>\n",
              "      <td>2.25</td>\n",
              "      <td>236</td>\n",
              "      <td>666</td>\n",
              "      <td>2.0</td>\n",
              "      <td>0</td>\n",
              "      <td>3</td>\n",
              "      <td>7</td>\n",
              "      <td>37</td>\n",
              "      <td>1951</td>\n",
              "      <td>1991</td>\n",
              "      <td>98125</td>\n",
              "      <td>47.7210</td>\n",
              "      <td>-122.319</td>\n",
              "    </tr>\n",
              "    <tr>\n",
              "      <th>3</th>\n",
              "      <td>604000</td>\n",
              "      <td>4</td>\n",
              "      <td>3.00</td>\n",
              "      <td>180</td>\n",
              "      <td>460</td>\n",
              "      <td>1.0</td>\n",
              "      <td>0</td>\n",
              "      <td>5</td>\n",
              "      <td>7</td>\n",
              "      <td>84</td>\n",
              "      <td>1965</td>\n",
              "      <td>0</td>\n",
              "      <td>98136</td>\n",
              "      <td>47.5208</td>\n",
              "      <td>-122.393</td>\n",
              "    </tr>\n",
              "    <tr>\n",
              "      <th>8</th>\n",
              "      <td>229500</td>\n",
              "      <td>3</td>\n",
              "      <td>1.00</td>\n",
              "      <td>164</td>\n",
              "      <td>687</td>\n",
              "      <td>1.0</td>\n",
              "      <td>0</td>\n",
              "      <td>3</td>\n",
              "      <td>7</td>\n",
              "      <td>67</td>\n",
              "      <td>1960</td>\n",
              "      <td>0</td>\n",
              "      <td>98146</td>\n",
              "      <td>47.5123</td>\n",
              "      <td>-122.337</td>\n",
              "    </tr>\n",
              "    <tr>\n",
              "      <th>11</th>\n",
              "      <td>468000</td>\n",
              "      <td>2</td>\n",
              "      <td>1.00</td>\n",
              "      <td>107</td>\n",
              "      <td>552</td>\n",
              "      <td>1.0</td>\n",
              "      <td>0</td>\n",
              "      <td>4</td>\n",
              "      <td>7</td>\n",
              "      <td>28</td>\n",
              "      <td>1942</td>\n",
              "      <td>0</td>\n",
              "      <td>98115</td>\n",
              "      <td>47.6900</td>\n",
              "      <td>-122.292</td>\n",
              "    </tr>\n",
              "  </tbody>\n",
              "</table>\n",
              "</div>"
            ],
            "text/plain": [
              "     price  bedrooms  bathrooms  ...    zip      lat     long\n",
              "0   221900         3       1.00  ...  98178  47.5112 -122.257\n",
              "1   538000         3       2.25  ...  98125  47.7210 -122.319\n",
              "3   604000         4       3.00  ...  98136  47.5208 -122.393\n",
              "8   229500         3       1.00  ...  98146  47.5123 -122.337\n",
              "11  468000         2       1.00  ...  98115  47.6900 -122.292\n",
              "\n",
              "[5 rows x 15 columns]"
            ]
          },
          "metadata": {
            "tags": []
          },
          "execution_count": 10
        }
      ]
    },
    {
      "cell_type": "code",
      "metadata": {
        "colab": {
          "base_uri": "https://localhost:8080/",
          "height": 284
        },
        "id": "NsBltzlQlFxW",
        "outputId": "c6acc2cb-2e4d-45e9-dfc9-930b4d6a33de"
      },
      "source": [
        "housing_data[['price','m2_living',]].describe()"
      ],
      "execution_count": 11,
      "outputs": [
        {
          "output_type": "execute_result",
          "data": {
            "text/html": [
              "<div>\n",
              "<style scoped>\n",
              "    .dataframe tbody tr th:only-of-type {\n",
              "        vertical-align: middle;\n",
              "    }\n",
              "\n",
              "    .dataframe tbody tr th {\n",
              "        vertical-align: top;\n",
              "    }\n",
              "\n",
              "    .dataframe thead th {\n",
              "        text-align: right;\n",
              "    }\n",
              "</style>\n",
              "<table border=\"1\" class=\"dataframe\">\n",
              "  <thead>\n",
              "    <tr style=\"text-align: right;\">\n",
              "      <th></th>\n",
              "      <th>price</th>\n",
              "      <th>m2_living</th>\n",
              "    </tr>\n",
              "  </thead>\n",
              "  <tbody>\n",
              "    <tr>\n",
              "      <th>count</th>\n",
              "      <td>7.981000e+03</td>\n",
              "      <td>7981.000000</td>\n",
              "    </tr>\n",
              "    <tr>\n",
              "      <th>mean</th>\n",
              "      <td>5.612638e+05</td>\n",
              "      <td>165.649292</td>\n",
              "    </tr>\n",
              "    <tr>\n",
              "      <th>std</th>\n",
              "      <td>3.450309e+05</td>\n",
              "      <td>73.781897</td>\n",
              "    </tr>\n",
              "    <tr>\n",
              "      <th>min</th>\n",
              "      <td>8.200000e+04</td>\n",
              "      <td>34.000000</td>\n",
              "    </tr>\n",
              "    <tr>\n",
              "      <th>25%</th>\n",
              "      <td>3.620000e+05</td>\n",
              "      <td>114.000000</td>\n",
              "    </tr>\n",
              "    <tr>\n",
              "      <th>50%</th>\n",
              "      <td>4.780000e+05</td>\n",
              "      <td>151.000000</td>\n",
              "    </tr>\n",
              "    <tr>\n",
              "      <th>75%</th>\n",
              "      <td>6.500000e+05</td>\n",
              "      <td>202.000000</td>\n",
              "    </tr>\n",
              "    <tr>\n",
              "      <th>max</th>\n",
              "      <td>7.700000e+06</td>\n",
              "      <td>1109.000000</td>\n",
              "    </tr>\n",
              "  </tbody>\n",
              "</table>\n",
              "</div>"
            ],
            "text/plain": [
              "              price    m2_living\n",
              "count  7.981000e+03  7981.000000\n",
              "mean   5.612638e+05   165.649292\n",
              "std    3.450309e+05    73.781897\n",
              "min    8.200000e+04    34.000000\n",
              "25%    3.620000e+05   114.000000\n",
              "50%    4.780000e+05   151.000000\n",
              "75%    6.500000e+05   202.000000\n",
              "max    7.700000e+06  1109.000000"
            ]
          },
          "metadata": {
            "tags": []
          },
          "execution_count": 11
        }
      ]
    },
    {
      "cell_type": "code",
      "metadata": {
        "colab": {
          "base_uri": "https://localhost:8080/",
          "height": 307
        },
        "id": "qqGISFNq3yKc",
        "outputId": "253034b0-69bb-469e-e920-0edf4a1ec8e4"
      },
      "source": [
        "#plt.bar(housing_data['grade'],housing_data['price'])\r\n",
        "#plt.show()\r\n",
        "sns.barplot(x='grade',y='price',data=housing_data)\r\n"
      ],
      "execution_count": 27,
      "outputs": [
        {
          "output_type": "execute_result",
          "data": {
            "text/plain": [
              "<matplotlib.axes._subplots.AxesSubplot at 0x7ff64a53cb10>"
            ]
          },
          "metadata": {
            "tags": []
          },
          "execution_count": 27
        },
        {
          "output_type": "display_data",
          "data": {
            "image/png": "[encoded data removed]",
            "text/plain": [
              "<Figure size 432x288 with 1 Axes>"
            ]
          },
          "metadata": {
            "tags": [],
            "needs_background": "light"
          }
        }
      ]
    },
    {
      "cell_type": "code",
      "metadata": {
        "colab": {
          "base_uri": "https://localhost:8080/"
        },
        "id": "pKDZLmTj4zbm",
        "outputId": "500b8c67-1a6c-42ff-d08b-2511fbb134be"
      },
      "source": [
        "#print( housing_data['bathrooms'].isnull().sum())"
      ],
      "execution_count": 16,
      "outputs": [
        {
          "output_type": "stream",
          "text": [
            "number of NaN values for the column bedrooms : 0\n"
          ],
          "name": "stdout"
        }
      ]
    },
    {
      "cell_type": "code",
      "metadata": {
        "colab": {
          "base_uri": "https://localhost:8080/"
        },
        "id": "wjJ1JuDO5Lng",
        "outputId": "00d48063-63d5-47d7-a2cf-de2905f229ac"
      },
      "source": [
        "housing_data.count()"
      ],
      "execution_count": 17,
      "outputs": [
        {
          "output_type": "execute_result",
          "data": {
            "text/plain": [
              "price           7981\n",
              "bedrooms        7981\n",
              "bathrooms       7981\n",
              "m2_living       7981\n",
              "m2_lot          7981\n",
              "floors          7981\n",
              "waterfront      7981\n",
              "condition       7981\n",
              "grade           7981\n",
              "m2_basement     7981\n",
              "yr_built        7981\n",
              "yr_renovated    7981\n",
              "zip             7981\n",
              "lat             7981\n",
              "long            7981\n",
              "dtype: int64"
            ]
          },
          "metadata": {
            "tags": []
          },
          "execution_count": 17
        }
      ]
    }
  ]
}